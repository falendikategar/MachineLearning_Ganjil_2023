{
  "nbformat": 4,
  "nbformat_minor": 0,
  "metadata": {
    "colab": {
      "provenance": [],
      "gpuType": "T4",
      "authorship_tag": "ABX9TyMPX/OGRUL30dTpM/kjmnxW",
      "include_colab_link": true
    },
    "kernelspec": {
      "name": "python3",
      "display_name": "Python 3"
    },
    "language_info": {
      "name": "python"
    },
    "accelerator": "GPU"
  },
  "cells": [
    {
      "cell_type": "markdown",
      "metadata": {
        "id": "view-in-github",
        "colab_type": "text"
      },
      "source": [
        "<a href=\"https://colab.research.google.com/github/lenmoru666/MachineLearning_Ganjil_2023/blob/main/Job_Sheet_10_Recurrent_Neural_Network_(RNN).ipynb\" target=\"_parent\"><img src=\"https://colab.research.google.com/assets/colab-badge.svg\" alt=\"Open In Colab\"/></a>"
      ]
    },
    {
      "cell_type": "markdown",
      "metadata": {
        "id": "A2EGvGqfj-cn"
      },
      "source": [
        "### Nama : Falendika Tegar Pratama\n",
        "### Kelas : 3G-TI\n",
        "### Nim : 2141720107"
      ]
    },
    {
      "cell_type": "markdown",
      "metadata": {
        "id": "6UNkJD7HkFeu"
      },
      "source": [
        "#### Link Github : (https://github.com/lenmoru666/MachineLearning_Ganjil_2023/blob/main/Job_Sheet_10_Recurrent_Neural_Network_(RNN).ipynb)"
      ]
    },
    {
      "cell_type": "markdown",
      "metadata": {
        "id": "aQ0vkxZi4L0y"
      },
      "source": [
        "# Praktikum 1 - RNN untuk Analisis Sentimen"
      ]
    },
    {
      "cell_type": "markdown",
      "source": [
        "### Setup\n",
        "\n",
        "Impor matplotlib dan buat fungsi pembantu untuk memplot grafik:"
      ],
      "metadata": {
        "id": "pwHPs34ozYiz"
      }
    },
    {
      "cell_type": "code",
      "execution_count": 1,
      "metadata": {
        "id": "SofvZa8z1sw_"
      },
      "outputs": [],
      "source": [
        "import numpy as np\n",
        "import tensorflow_datasets as tfds\n",
        "import tensorflow as tf\n",
        "\n",
        "tfds.disable_progress_bar()"
      ]
    },
    {
      "cell_type": "code",
      "source": [
        "import matplotlib.pyplot as plt\n",
        "\n",
        "def plot_graphs(history, metric):\n",
        " plt.plot(history.history[metric])\n",
        " plt.plot(history.history['val_'+metric], '')\n",
        " plt.xlabel(\"Epochs\")\n",
        " plt.ylabel(metric)\n",
        " plt.legend([metric, 'val_'+metric])"
      ],
      "metadata": {
        "id": "gljC7bKpwADT"
      },
      "execution_count": 2,
      "outputs": []
    },
    {
      "cell_type": "markdown",
      "source": [
        "### Setup input pipeline\n",
        "\n",
        "Dataset ulasan film IMDB adalah kumpulan data klasifikasi biner—semua ulasan memiliki sentimen positif atau negatif.\n",
        "\n",
        "Download dataset menggunakan TFDS. Lihat loading text tutorial jika ingin me load data secara manual"
      ],
      "metadata": {
        "id": "8rgiCv5ezinw"
      }
    },
    {
      "cell_type": "code",
      "source": [
        "dataset, info = tfds.load('imdb_reviews', with_info=True,\n",
        "                          as_supervised=True)\n",
        "train_dataset, test_dataset = dataset['train'], dataset['test']\n",
        "\n",
        "train_dataset.element_spec"
      ],
      "metadata": {
        "colab": {
          "base_uri": "https://localhost:8080/"
        },
        "id": "xxsYjaVRwSTj",
        "outputId": "9d202e0a-a6de-4b92-eb55-c04938fe6b43"
      },
      "execution_count": 3,
      "outputs": [
        {
          "output_type": "stream",
          "name": "stdout",
          "text": [
            "Downloading and preparing dataset 80.23 MiB (download: 80.23 MiB, generated: Unknown size, total: 80.23 MiB) to /root/tensorflow_datasets/imdb_reviews/plain_text/1.0.0...\n",
            "Dataset imdb_reviews downloaded and prepared to /root/tensorflow_datasets/imdb_reviews/plain_text/1.0.0. Subsequent calls will reuse this data.\n"
          ]
        },
        {
          "output_type": "execute_result",
          "data": {
            "text/plain": [
              "(TensorSpec(shape=(), dtype=tf.string, name=None),\n",
              " TensorSpec(shape=(), dtype=tf.int64, name=None))"
            ]
          },
          "metadata": {},
          "execution_count": 3
        }
      ]
    },
    {
      "cell_type": "markdown",
      "source": [
        "Awalnya ini mengembalikan dataset (teks, pasangan label):"
      ],
      "metadata": {
        "id": "vhMFaiIGwTMK"
      }
    },
    {
      "cell_type": "code",
      "source": [
        "for example, label in train_dataset.take(1):\n",
        "  print('text: ', example.numpy())\n",
        "  print('label: ', label.numpy())"
      ],
      "metadata": {
        "colab": {
          "base_uri": "https://localhost:8080/"
        },
        "id": "IEpai3TgwVYl",
        "outputId": "c89d736a-eabd-4c54-a029-d6fa3f0708ea"
      },
      "execution_count": 4,
      "outputs": [
        {
          "output_type": "stream",
          "name": "stdout",
          "text": [
            "text:  b\"This was an absolutely terrible movie. Don't be lured in by Christopher Walken or Michael Ironside. Both are great actors, but this must simply be their worst role in history. Even their great acting could not redeem this movie's ridiculous storyline. This movie is an early nineties US propaganda piece. The most pathetic scenes were those when the Columbian rebels were making their cases for revolutions. Maria Conchita Alonso appeared phony, and her pseudo-love affair with Walken was nothing but a pathetic emotional plug in a movie that was devoid of any real meaning. I am disappointed that there are movies like this, ruining actor's like Christopher Walken's good name. I could barely sit through it.\"\n",
            "label:  0\n"
          ]
        }
      ]
    },
    {
      "cell_type": "markdown",
      "source": [
        "Berikutnya acak data untuk pelatihan dan membuat kumpulan pasangan (teks, label) ini:"
      ],
      "metadata": {
        "id": "hmYcsJ0DwWre"
      }
    },
    {
      "cell_type": "code",
      "source": [
        "BUFFER_SIZE = 10000\n",
        "BATCH_SIZE = 64\n",
        "\n",
        "train_dataset = train_dataset.shuffle(BUFFER_SIZE).batch(BATCH_SIZE).prefetch(tf.data.AUTOTUNE)\n",
        "test_dataset = test_dataset.batch(BATCH_SIZE).prefetch(tf.data.AUTOTUNE)\n",
        "\n",
        "for example, label in train_dataset.take(1):\n",
        "  print('texts: ', example.numpy()[:3])\n",
        "  print()\n",
        "  print('labels: ', label.numpy()[:3])\n"
      ],
      "metadata": {
        "colab": {
          "base_uri": "https://localhost:8080/"
        },
        "id": "bnyoVdcIwXW_",
        "outputId": "633055ef-5d91-48a5-c6b0-a1a9c11cf26b"
      },
      "execution_count": 5,
      "outputs": [
        {
          "output_type": "stream",
          "name": "stdout",
          "text": [
            "texts:  [b\"This is quite an amazing film to watch. Using digital technology, the director, Rohmer, has literally encrusted his living actors into painted backdrops. Most of the time this works brilliantly, especially at the start where the film is like a pop up story book come to life. It is less successful in a few scenes, where it limits camera angles (they had not painted the side of some of the buildings for example) but it is a very interesting way to film a historical film which is as much about our own misconceptions and limited views of history as History itself. It is narrated using the memoirs of the Duc d'Orleans' ex- mistress, Grace Elliott. So, an event usually claimed as one of their own by Marxist historians, especially in France, is here told from the point of view of a female aristocratic foreigner. Inevitably a different point of view emerges -there can be no objective representation. The use of the memoirs device does give the film a rather episodic quality. Personally, I found the story line around the King's death the most interesting. A staunch Royalist she is shocked when the Duc votes for the King's death (a basic knowledge of the French Revolution is probably helpful to follow the dialogue between Grace and the Duc here. He was Louis's cousin and had himself elected to the Assembly, where he promptly changed his name to Philip Equality). The filming of Louis's death is masterly. Grace and her maidservant are in Meudon, out of Paris, watching from a hill with a telescope. We do not see the execution, we only hear the maid's commentary, like Grace. The most dramatic event of the Revolution happens off screen. Grace cannot bear to watch her king be killed. Her view is that of an aristocrat. Any justification of Louis's death is literally beyond her vision. This is powerful, keenly intelligent film making. The love story between the duc and Grace is insinuated, never told, and is powerfully moving (tho the Duc does seem a bit of a pompous fool at times; what does she see in him? No accounting for taste). The undercurrents of madness (simply existing being enough to be a suspect) that sweep individuals along in a time such as the Revolution are illustrated as Grace's life is turned upside down, her house is searched daily, yet she still orders her servants to cook her food and is incapable of dressing herself! If you have any interest at all in a subtle, well told film, making clever use of new technology to tell an old tale, or the representation of a pivotal moment in Europe's history narrated by an aristocratic foreign woman, its ultimate outsider, then this is well worth your time. It is a little slow in places but your patience is amply rewarded.\"\n",
            " b\"The Drug Years actually suffers from one of those aspects to mini-series or other kinds of TV documentaries run over and over again for a couple of weeks on TV. It's actually not long enough, in a way. All of the major bases in the decades are covered, and they're all interesting to note as views into post-modern history and from different sides. But it almost doesn't cover enough, or at least what is covered at times is given a once over when it could deserve more time. For example, the information and detail in part three about the whole process and business unto itself of shipping mass amounts of drugs (partly the marijuana, later cocaine) is really well presented, but there are more details that are kept at behest of how much time there is to cover.<br /><br />Overall though the documentary does shed enough light on how drugs, pop-culture, government intervention, the upper classes and lower classes and into suburbia, all felt the wave of various drugs over the years, and the interplay between all was very evident. Nobody in the film- except for the possibility of small hints with the pot)- goes to endorse drugs outright, but what is shown are those in archival clips about the honesty of what is at times fun, and then tragic, about taking certain drugs. The appearances of various staunch, ridiculously anti-drug officials does hammer some points down hard- with even in such an overview of the drug cultures and America's connection as a whole- as there is really only one major point that is made a couple of times by one of the interviewees. The only way to really approach the issue of drugs is not 'just say no', because as the war on drugs has shown it is not as effective as thought. It is really just to come clean on all sides about all the drugs and the people who may be hypocritical about them (as, for example, oxycontin continues on in the marketplace).<br /><br />Is it with the great interest and depth of a Ken Burns documentary? No, but for some summertime TV viewing for the young (i.e. my age) who will view a lot of this as almost ancient history despite most of it being no more than a generation ago, as well as for the 'old' who can reflect some decades later about the great peaks, careless times, and then the disillusionment prodded more by the same media that years earlier propagated and advertised it. There are those who might find the documentary to be particularly biased, which is not totally untrue, but it does attempt to get enough different takes on the social, political, and entertainment conditions of drugs interweaving (for better or obvious worse) for enough of a fascinating view.\"\n",
            " b\"I actually like this movie even though I don't fancy James Belushi very much. In this movie, you can actually see several big names on the rise, Linda Hamilton and Courteney Cox namely; Caine's was already big of course. The plot in this movie is simple; its just like that Sliding Door movie. It however was told in a light-hearted manner and I like the comedy moments in it. It made me trying to relive my own important moments in live, eg what if I've taken that girl out for a movie, and not the other etc. It tells us that people around us could have taken different roles in our lives if some minute details were to change. It also reminds us to be careful what we wish for. Life is not always as good on the other side as we think; maybe, what we have now is the best for us, all things considered.\"]\n",
            "\n",
            "labels:  [1 1 1]\n"
          ]
        }
      ]
    },
    {
      "cell_type": "markdown",
      "source": [
        "### Buat Teks Encoder\n",
        "\n",
        "Teks mentah yang dimuat oleh tfds perlu diproses sebelum dapat digunakan dalam model. Cara termudah memproses teks untuk pelatihan adalah menggunakan lapisan TextVectorization. Lapisan ini memiliki banyak kemampuan, namun pada tutorial ini menggunakan perilaku default. Buat lapisan tersebut, dan teruskan teks kumpulan data ke metode .adapt lapisan:"
      ],
      "metadata": {
        "id": "FC1ioQH6wZZA"
      }
    },
    {
      "cell_type": "code",
      "source": [
        "VOCAB_SIZE = 1000\n",
        "encoder = tf.keras.layers.TextVectorization(\n",
        "    max_tokens=VOCAB_SIZE)\n",
        "encoder.adapt(train_dataset.map(lambda text, label: text))"
      ],
      "metadata": {
        "id": "xSQbCx6FwgVd"
      },
      "execution_count": 6,
      "outputs": []
    },
    {
      "cell_type": "markdown",
      "source": [
        "Metode .adapt mengatur kosakata lapisan. 20 token pertama dapat dilihat dengan kode berikut. Setelah padding dan token yang tidak diketahui, mereka diurutkan berdasarkan frekuensi:"
      ],
      "metadata": {
        "id": "4xMhyd_Lwh92"
      }
    },
    {
      "cell_type": "code",
      "source": [
        "vocab = np.array(encoder.get_vocabulary())\n",
        "vocab[:20]"
      ],
      "metadata": {
        "colab": {
          "base_uri": "https://localhost:8080/"
        },
        "id": "wFXdOSTswjPL",
        "outputId": "b848e12d-8725-4199-f2fc-91b8c64e319d"
      },
      "execution_count": 7,
      "outputs": [
        {
          "output_type": "execute_result",
          "data": {
            "text/plain": [
              "array(['', '[UNK]', 'the', 'and', 'a', 'of', 'to', 'is', 'in', 'it', 'i',\n",
              "       'this', 'that', 'br', 'was', 'as', 'for', 'with', 'movie', 'but'],\n",
              "      dtype='<U14')"
            ]
          },
          "metadata": {},
          "execution_count": 7
        }
      ]
    },
    {
      "cell_type": "markdown",
      "source": [
        "Setelah kosakata diatur, lapisan dapat mengkodekan teks ke dalam indeks. Tensor indeks diberi bantalan 0 ke urutan terpanjang dalam batch (kecuali jika Anda menetapkan output_sequence_length tetap):"
      ],
      "metadata": {
        "id": "f64IqDvgwk7O"
      }
    },
    {
      "cell_type": "code",
      "source": [
        "encoded_example = encoder(example)[:3].numpy()\n",
        "encoded_example"
      ],
      "metadata": {
        "colab": {
          "base_uri": "https://localhost:8080/"
        },
        "id": "Au2c-IRmwl4z",
        "outputId": "083d13a2-8757-42fd-bd7e-37dbd4e6a64f"
      },
      "execution_count": 8,
      "outputs": [
        {
          "output_type": "execute_result",
          "data": {
            "text/plain": [
              "array([[ 11,   7, 176, ...,   0,   0,   0],\n",
              "       [  2,   1, 148, ...,   0,   0,   0],\n",
              "       [ 10, 157,  39, ...,   0,   0,   0]])"
            ]
          },
          "metadata": {},
          "execution_count": 8
        }
      ]
    },
    {
      "cell_type": "markdown",
      "source": [
        "Dengan pengaturan default, prosesnya tidak dapat dibalik sepenuhnya. Ada dua alasan utama untuk itu:\n",
        "- Nilai default untuk argumen standarisasi preprocessing.TextVectorization adalah \"lower_and_strip_punctuation\".\n",
        "- Ukuran kosa kata yang terbatas dan kurangnya fallback berbasis karakter menghasilkan beberapa token yang tidak diketahui."
      ],
      "metadata": {
        "id": "JQAnjBOfwoSj"
      }
    },
    {
      "cell_type": "code",
      "source": [
        "for n in range(3):\n",
        "  print(\"Original: \", example[n].numpy())\n",
        "  print(\"Round-trip: \", \" \".join(vocab[encoded_example[n]]))\n",
        "  print()"
      ],
      "metadata": {
        "colab": {
          "base_uri": "https://localhost:8080/"
        },
        "id": "rtcUwexrwsY_",
        "outputId": "3ecef588-18cd-4710-8718-c050492a9a6d"
      },
      "execution_count": 9,
      "outputs": [
        {
          "output_type": "stream",
          "name": "stdout",
          "text": [
            "Original:  b\"This is quite an amazing film to watch. Using digital technology, the director, Rohmer, has literally encrusted his living actors into painted backdrops. Most of the time this works brilliantly, especially at the start where the film is like a pop up story book come to life. It is less successful in a few scenes, where it limits camera angles (they had not painted the side of some of the buildings for example) but it is a very interesting way to film a historical film which is as much about our own misconceptions and limited views of history as History itself. It is narrated using the memoirs of the Duc d'Orleans' ex- mistress, Grace Elliott. So, an event usually claimed as one of their own by Marxist historians, especially in France, is here told from the point of view of a female aristocratic foreigner. Inevitably a different point of view emerges -there can be no objective representation. The use of the memoirs device does give the film a rather episodic quality. Personally, I found the story line around the King's death the most interesting. A staunch Royalist she is shocked when the Duc votes for the King's death (a basic knowledge of the French Revolution is probably helpful to follow the dialogue between Grace and the Duc here. He was Louis's cousin and had himself elected to the Assembly, where he promptly changed his name to Philip Equality). The filming of Louis's death is masterly. Grace and her maidservant are in Meudon, out of Paris, watching from a hill with a telescope. We do not see the execution, we only hear the maid's commentary, like Grace. The most dramatic event of the Revolution happens off screen. Grace cannot bear to watch her king be killed. Her view is that of an aristocrat. Any justification of Louis's death is literally beyond her vision. This is powerful, keenly intelligent film making. The love story between the duc and Grace is insinuated, never told, and is powerfully moving (tho the Duc does seem a bit of a pompous fool at times; what does she see in him? No accounting for taste). The undercurrents of madness (simply existing being enough to be a suspect) that sweep individuals along in a time such as the Revolution are illustrated as Grace's life is turned upside down, her house is searched daily, yet she still orders her servants to cook her food and is incapable of dressing herself! If you have any interest at all in a subtle, well told film, making clever use of new technology to tell an old tale, or the representation of a pivotal moment in Europe's history narrated by an aristocratic foreign woman, its ultimate outsider, then this is well worth your time. It is a little slow in places but your patience is amply rewarded.\"\n",
            "Round-trip:  this is quite an amazing film to watch using [UNK] [UNK] the director [UNK] has [UNK] [UNK] his living actors into [UNK] [UNK] most of the time this works [UNK] especially at the start where the film is like a [UNK] up story book come to life it is less [UNK] in a few scenes where it [UNK] camera [UNK] they had not [UNK] the side of some of the [UNK] for example but it is a very interesting way to film a [UNK] film which is as much about our own [UNK] and [UNK] [UNK] of history as history itself it is [UNK] using the [UNK] of the [UNK] [UNK] [UNK] [UNK] [UNK] [UNK] so an [UNK] usually [UNK] as one of their own by [UNK] [UNK] especially in [UNK] is here told from the point of view of a female [UNK] [UNK] [UNK] a different point of view [UNK] there can be no [UNK] [UNK] the use of the [UNK] [UNK] does give the film a rather [UNK] quality [UNK] i found the story line around the [UNK] death the most interesting a [UNK] [UNK] she is [UNK] when the [UNK] [UNK] for the [UNK] death a [UNK] [UNK] of the french [UNK] is probably [UNK] to follow the dialogue between [UNK] and the [UNK] here he was [UNK] [UNK] and had himself [UNK] to the [UNK] where he [UNK] [UNK] his name to [UNK] [UNK] the [UNK] of [UNK] death is [UNK] [UNK] and her [UNK] are in [UNK] out of [UNK] watching from a [UNK] with a [UNK] we do not see the [UNK] we only hear the [UNK] [UNK] like [UNK] the most dramatic [UNK] of the [UNK] happens off screen [UNK] cannot [UNK] to watch her king be killed her view is that of an [UNK] any [UNK] of [UNK] death is [UNK] beyond her [UNK] this is powerful [UNK] [UNK] film making the love story between the [UNK] and [UNK] is [UNK] never told and is [UNK] moving [UNK] the [UNK] does seem a bit of a [UNK] [UNK] at times what does she see in him no [UNK] for [UNK] the [UNK] of [UNK] simply [UNK] being enough to be a [UNK] that [UNK] [UNK] along in a time such as the [UNK] are [UNK] as [UNK] life is turned [UNK] down her house is [UNK] [UNK] yet she still [UNK] her [UNK] to [UNK] her [UNK] and is [UNK] of [UNK] herself if you have any interest at all in a [UNK] well told film making [UNK] use of new [UNK] to tell an old tale or the [UNK] of a [UNK] moment in [UNK] history [UNK] by an [UNK] [UNK] woman its [UNK] [UNK] then this is well worth your time it is a little slow in [UNK] but your [UNK] is [UNK] [UNK]                                                                                                                                                                                                                                                                                                                                                                                                                                                                                                                                \n",
            "\n",
            "Original:  b\"The Drug Years actually suffers from one of those aspects to mini-series or other kinds of TV documentaries run over and over again for a couple of weeks on TV. It's actually not long enough, in a way. All of the major bases in the decades are covered, and they're all interesting to note as views into post-modern history and from different sides. But it almost doesn't cover enough, or at least what is covered at times is given a once over when it could deserve more time. For example, the information and detail in part three about the whole process and business unto itself of shipping mass amounts of drugs (partly the marijuana, later cocaine) is really well presented, but there are more details that are kept at behest of how much time there is to cover.<br /><br />Overall though the documentary does shed enough light on how drugs, pop-culture, government intervention, the upper classes and lower classes and into suburbia, all felt the wave of various drugs over the years, and the interplay between all was very evident. Nobody in the film- except for the possibility of small hints with the pot)- goes to endorse drugs outright, but what is shown are those in archival clips about the honesty of what is at times fun, and then tragic, about taking certain drugs. The appearances of various staunch, ridiculously anti-drug officials does hammer some points down hard- with even in such an overview of the drug cultures and America's connection as a whole- as there is really only one major point that is made a couple of times by one of the interviewees. The only way to really approach the issue of drugs is not 'just say no', because as the war on drugs has shown it is not as effective as thought. It is really just to come clean on all sides about all the drugs and the people who may be hypocritical about them (as, for example, oxycontin continues on in the marketplace).<br /><br />Is it with the great interest and depth of a Ken Burns documentary? No, but for some summertime TV viewing for the young (i.e. my age) who will view a lot of this as almost ancient history despite most of it being no more than a generation ago, as well as for the 'old' who can reflect some decades later about the great peaks, careless times, and then the disillusionment prodded more by the same media that years earlier propagated and advertised it. There are those who might find the documentary to be particularly biased, which is not totally untrue, but it does attempt to get enough different takes on the social, political, and entertainment conditions of drugs interweaving (for better or obvious worse) for enough of a fascinating view.\"\n",
            "Round-trip:  the [UNK] years actually [UNK] from one of those [UNK] to [UNK] or other [UNK] of tv [UNK] run over and over again for a couple of [UNK] on tv its actually not long enough in a way all of the major [UNK] in the [UNK] are [UNK] and theyre all interesting to note as [UNK] into [UNK] history and from different [UNK] but it almost doesnt [UNK] enough or at least what is [UNK] at times is given a once over when it could [UNK] more time for example the [UNK] and [UNK] in part three about the whole [UNK] and business [UNK] itself of [UNK] [UNK] [UNK] of [UNK] [UNK] the [UNK] later [UNK] is really well [UNK] but there are more [UNK] that are kept at [UNK] of how much time there is to [UNK] br overall though the documentary does [UNK] enough light on how [UNK] [UNK] [UNK] [UNK] the [UNK] [UNK] and [UNK] [UNK] and into [UNK] all felt the [UNK] of various [UNK] over the years and the [UNK] between all was very [UNK] [UNK] in the film except for the [UNK] of small [UNK] with the [UNK] goes to [UNK] [UNK] [UNK] but what is shown are those in [UNK] [UNK] about the [UNK] of what is at times fun and then [UNK] about taking certain [UNK] the [UNK] of various [UNK] [UNK] [UNK] [UNK] does [UNK] some points down hard with even in such an [UNK] of the [UNK] [UNK] and [UNK] [UNK] as a whole as there is really only one major point that is made a couple of times by one of the [UNK] the only way to really [UNK] the [UNK] of [UNK] is not just say no because as the war on [UNK] has shown it is not as [UNK] as thought it is really just to come [UNK] on all [UNK] about all the [UNK] and the people who may be [UNK] about them as for example [UNK] [UNK] on in the [UNK] br is it with the great interest and [UNK] of a [UNK] [UNK] documentary no but for some [UNK] tv viewing for the young [UNK] my age who will view a lot of this as almost [UNK] history despite most of it being no more than a [UNK] ago as well as for the old who can [UNK] some [UNK] later about the great [UNK] [UNK] times and then the [UNK] [UNK] more by the same [UNK] that years earlier [UNK] and [UNK] it there are those who might find the documentary to be particularly [UNK] which is not totally [UNK] but it does attempt to get enough different takes on the [UNK] political and entertainment [UNK] of [UNK] [UNK] for better or obvious worse for enough of a [UNK] view                                                                                                                                                                                                                                                                                                                                                                                                                                                                                                                                       \n",
            "\n",
            "Original:  b\"I actually like this movie even though I don't fancy James Belushi very much. In this movie, you can actually see several big names on the rise, Linda Hamilton and Courteney Cox namely; Caine's was already big of course. The plot in this movie is simple; its just like that Sliding Door movie. It however was told in a light-hearted manner and I like the comedy moments in it. It made me trying to relive my own important moments in live, eg what if I've taken that girl out for a movie, and not the other etc. It tells us that people around us could have taken different roles in our lives if some minute details were to change. It also reminds us to be careful what we wish for. Life is not always as good on the other side as we think; maybe, what we have now is the best for us, all things considered.\"\n",
            "Round-trip:  i actually like this movie even though i dont [UNK] james [UNK] very much in this movie you can actually see several big [UNK] on the [UNK] [UNK] [UNK] and [UNK] [UNK] [UNK] [UNK] was already big of course the plot in this movie is simple its just like that [UNK] [UNK] movie it however was told in a [UNK] [UNK] and i like the comedy moments in it it made me trying to [UNK] my own important moments in live [UNK] what if ive taken that girl out for a movie and not the other etc it tells us that people around us could have taken different roles in our lives if some minute [UNK] were to change it also [UNK] us to be [UNK] what we wish for life is not always as good on the other side as we think maybe what we have now is the best for us all things [UNK]                                                                                                                                                                                                                                                                                                                                                                                                                                                                                                                                                                                                                                                                                                                                                                                                                                                              \n",
            "\n"
          ]
        }
      ]
    },
    {
      "cell_type": "markdown",
      "source": [
        "### Buat Model\n",
        "\n",
        "![Screenshot_786.png](data:image/png;base64,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)"
      ],
      "metadata": {
        "id": "Sn8v_DfxwtXD"
      }
    },
    {
      "cell_type": "markdown",
      "source": [
        "diagram model dapat dilihat pada gambar diatas\n",
        "1. Model ini dapat dibuat sebagai tf.keras.Sequential.\n",
        "2. Lapisan pertama adalah encoder, yang mengubah teks menjadi urutan indeks token.\n",
        "3. Setelah encoder adalah lapisan penyematan (embedding layer). Lapisan penyematan menyimpan satu vektor per kata. Saat dipanggil, ini mengubah rangkaian indeks kata menjadi rangkaian vektor. Vektor-vektor ini dapat dilatih. Setelah pelatihan (dengan data yang cukup), kata-kata dengan arti yang mirip sering kali memiliki vektor yang serupa. Pencarian indeks ini jauh lebih efisien daripada operasi setara dengan meneruskan vektor yang disandikan one-hot melalui lapisan tf.keras.layers.Dense.\n",
        "4. Jaringan saraf berulang (RNN) memproses masukan urutan dengan melakukan iterasi melalui elemen. RNN meneruskan keluaran dari satu langkah waktu ke masukannya pada langkah waktu berikutnya.\n",
        "Pembungkus tf.keras.layers.Bidirection juga dapat digunakan dengan lapisan RNN. Ini menyebarkan masukan maju dan mundur melalui lapisan RNN dan kemudian menggabungkan keluaran akhir.\n",
        "  - Keuntungan utama RNN dua arah adalah sinyal dari awal masukan tidak perlu diproses sepanjang waktu untuk memengaruhi keluaran.\n",
        "  - Kerugian utama dari RNN dua arah adalah Anda tidak dapat melakukan streaming prediksi secara efisien saat kata-kata ditambahkan di akhir.\n",
        "5. Setelah RNN mengonversi urutan menjadi satu vektor, kedua lapisan tersebut.Dense melakukan beberapa pemrosesan akhir, dan mengonversi representasi vektor ini menjadi logit tunggal sebagai keluaran klasifikasi."
      ],
      "metadata": {
        "id": "Ocj8c2OFw4Zw"
      }
    },
    {
      "cell_type": "markdown",
      "source": [
        "Kode nya adalah sebagai berikut :"
      ],
      "metadata": {
        "id": "ZHzc3ahTxIx2"
      }
    },
    {
      "cell_type": "code",
      "source": [
        "model = tf.keras.Sequential([\n",
        "    encoder,\n",
        "    tf.keras.layers.Embedding(\n",
        "        input_dim=len(encoder.get_vocabulary()),\n",
        "        output_dim=64,\n",
        "        # Use masking to handle the variable sequence lengths\n",
        "        mask_zero=True),\n",
        "    tf.keras.layers.Bidirectional(tf.keras.layers.LSTM(64)),\n",
        "    tf.keras.layers.Dense(64, activation='relu'),\n",
        "    tf.keras.layers.Dense(1)\n",
        "])"
      ],
      "metadata": {
        "id": "3ATsycf_xKm5"
      },
      "execution_count": 10,
      "outputs": []
    },
    {
      "cell_type": "markdown",
      "source": [
        "Harap dicatat bahwa model sekuensial Keras digunakan di sini karena semua lapisan dalam model hanya memiliki masukan tunggal dan menghasilkan keluaran tunggal. Jika Anda ingin menggunakan lapisan RNN stateful, Anda mungkin ingin membangun model Anda dengan API fungsional Keras atau subkelas model sehingga Anda dapat mengambil dan menggunakan kembali status lapisan RNN. Untuk detailnya bisa dilihat pada Keras RNN guide\n",
        "\n",
        "Lapisan penyematan menggunakan masking (uses masking ) untuk menangani panjang urutan yang bervariasi. Semua lapisan setelah penyematan dukungan penyematan"
      ],
      "metadata": {
        "id": "vE4FOZRRxVB5"
      }
    },
    {
      "cell_type": "code",
      "source": [
        "print([layer.supports_masking for layer in model.layers])"
      ],
      "metadata": {
        "colab": {
          "base_uri": "https://localhost:8080/"
        },
        "id": "e1e6OPV5xYae",
        "outputId": "d65d43a8-925f-4aed-aca5-a2ed8b680e64"
      },
      "execution_count": 11,
      "outputs": [
        {
          "output_type": "stream",
          "name": "stdout",
          "text": [
            "[False, True, True, True, True]\n"
          ]
        }
      ]
    },
    {
      "cell_type": "markdown",
      "source": [
        "Untuk memastikan bahwa ini berfungsi seperti yang diharapkan, evaluasi sebuah kalimat dua kali. Pertama, satu kalimat sehingga tidak ada bantalan (padding) untuk disamarkan:"
      ],
      "metadata": {
        "id": "ZyWEiEN-xbNk"
      }
    },
    {
      "cell_type": "code",
      "source": [
        "# predict on a sample text without padding.\n",
        "\n",
        "sample_text = ('The movie was cool. The animation and the graphics '\n",
        "               'were out of this world. I would recommend this movie.')\n",
        "predictions = model.predict(np.array([sample_text]))\n",
        "print(predictions[0])"
      ],
      "metadata": {
        "colab": {
          "base_uri": "https://localhost:8080/"
        },
        "id": "iB_UgnLbxcMl",
        "outputId": "3121feb8-493d-4d0c-d26c-0b8c2c8df355"
      },
      "execution_count": 12,
      "outputs": [
        {
          "output_type": "stream",
          "name": "stdout",
          "text": [
            "1/1 [==============================] - 7s 7s/step\n",
            "[-0.00590478]\n"
          ]
        }
      ]
    },
    {
      "cell_type": "markdown",
      "source": [
        "Sekarang, evaluasi lagi dalam batch dengan kalimat yang lebih panjang. Hasilnya harus sama:"
      ],
      "metadata": {
        "id": "n4fXLQSgxd8f"
      }
    },
    {
      "cell_type": "code",
      "source": [
        "# predict on a sample text with padding\n",
        "\n",
        "padding = \"the \" * 2000\n",
        "predictions = model.predict(np.array([sample_text, padding]))\n",
        "print(predictions[0])"
      ],
      "metadata": {
        "colab": {
          "base_uri": "https://localhost:8080/"
        },
        "id": "NK0Af4Sbxeee",
        "outputId": "fb89edc7-4bc8-471c-bbb5-3af7e8a97a97"
      },
      "execution_count": 13,
      "outputs": [
        {
          "output_type": "stream",
          "name": "stdout",
          "text": [
            "1/1 [==============================] - 0s 62ms/step\n",
            "[-0.00590478]\n"
          ]
        }
      ]
    },
    {
      "cell_type": "markdown",
      "source": [
        "compile model Keras untuk mengonfigurasi proses pelatihan:"
      ],
      "metadata": {
        "id": "jycoeuk8xgTJ"
      }
    },
    {
      "cell_type": "code",
      "source": [
        "model.compile(loss=tf.keras.losses.BinaryCrossentropy(from_logits=True),\n",
        "              optimizer=tf.keras.optimizers.Adam(1e-4),\n",
        "              metrics=['accuracy'])"
      ],
      "metadata": {
        "id": "9hRvAx9Dxg8g"
      },
      "execution_count": 14,
      "outputs": []
    },
    {
      "cell_type": "markdown",
      "source": [
        "### Train Model"
      ],
      "metadata": {
        "id": "bqF89IsrxiiA"
      }
    },
    {
      "cell_type": "code",
      "source": [
        "history = model.fit(train_dataset, epochs=10,\n",
        "                    validation_data=test_dataset,\n",
        "                    validation_steps=30)"
      ],
      "metadata": {
        "colab": {
          "base_uri": "https://localhost:8080/"
        },
        "id": "_Tp9maW-xkmm",
        "outputId": "ab9639c3-cb9a-4cfb-a504-75ffc6734d7e"
      },
      "execution_count": 15,
      "outputs": [
        {
          "output_type": "stream",
          "name": "stdout",
          "text": [
            "Epoch 1/10\n",
            "391/391 [==============================] - 50s 102ms/step - loss: 0.6367 - accuracy: 0.5650 - val_loss: 0.5245 - val_accuracy: 0.7068\n",
            "Epoch 2/10\n",
            "391/391 [==============================] - 26s 65ms/step - loss: 0.4220 - accuracy: 0.8006 - val_loss: 0.3823 - val_accuracy: 0.8161\n",
            "Epoch 3/10\n",
            "391/391 [==============================] - 25s 63ms/step - loss: 0.3551 - accuracy: 0.8419 - val_loss: 0.3588 - val_accuracy: 0.8453\n",
            "Epoch 4/10\n",
            "391/391 [==============================] - 25s 62ms/step - loss: 0.3306 - accuracy: 0.8553 - val_loss: 0.3447 - val_accuracy: 0.8271\n",
            "Epoch 5/10\n",
            "391/391 [==============================] - 25s 64ms/step - loss: 0.3171 - accuracy: 0.8619 - val_loss: 0.3254 - val_accuracy: 0.8625\n",
            "Epoch 6/10\n",
            "391/391 [==============================] - 25s 62ms/step - loss: 0.3113 - accuracy: 0.8641 - val_loss: 0.3239 - val_accuracy: 0.8479\n",
            "Epoch 7/10\n",
            "391/391 [==============================] - 24s 61ms/step - loss: 0.3053 - accuracy: 0.8678 - val_loss: 0.3260 - val_accuracy: 0.8609\n",
            "Epoch 8/10\n",
            "391/391 [==============================] - 26s 65ms/step - loss: 0.3039 - accuracy: 0.8690 - val_loss: 0.3282 - val_accuracy: 0.8583\n",
            "Epoch 9/10\n",
            "391/391 [==============================] - 25s 64ms/step - loss: 0.3008 - accuracy: 0.8694 - val_loss: 0.3225 - val_accuracy: 0.8620\n",
            "Epoch 10/10\n",
            "391/391 [==============================] - 24s 62ms/step - loss: 0.2992 - accuracy: 0.8713 - val_loss: 0.3264 - val_accuracy: 0.8594\n"
          ]
        }
      ]
    },
    {
      "cell_type": "code",
      "source": [
        "test_loss, test_acc = model.evaluate(test_dataset)\n",
        "\n",
        "print('Test Loss:', test_loss)\n",
        "print('Test Accuracy:', test_acc)"
      ],
      "metadata": {
        "colab": {
          "base_uri": "https://localhost:8080/"
        },
        "id": "TTT9Ehw8xmkR",
        "outputId": "d24dc965-3c29-4a6e-9289-d64aa751bb15"
      },
      "execution_count": 16,
      "outputs": [
        {
          "output_type": "stream",
          "name": "stdout",
          "text": [
            "391/391 [==============================] - 12s 30ms/step - loss: 0.3254 - accuracy: 0.8631\n",
            "Test Loss: 0.3254397511482239\n",
            "Test Accuracy: 0.8630800247192383\n"
          ]
        }
      ]
    },
    {
      "cell_type": "code",
      "source": [
        "plt.figure(figsize=(16, 8))\n",
        "plt.subplot(1, 2, 1)\n",
        "plot_graphs(history, 'accuracy')\n",
        "plt.ylim(None, 1)\n",
        "plt.subplot(1, 2, 2)\n",
        "plot_graphs(history, 'loss')\n",
        "plt.ylim(0, None)"
      ],
      "metadata": {
        "colab": {
          "base_uri": "https://localhost:8080/",
          "height": 718
        },
        "id": "06tiYAa4xpnX",
        "outputId": "08e707df-a554-49f2-b22e-81024643ab45"
      },
      "execution_count": 17,
      "outputs": [
        {
          "output_type": "execute_result",
          "data": {
            "text/plain": [
              "(0.0, 0.6536127924919128)"
            ]
          },
          "metadata": {},
          "execution_count": 17
        },
        {
          "output_type": "display_data",
          "data": {
            "text/plain": [
              "<Figure size 1600x800 with 2 Axes>"
            ],
            "image/png": "[encoded data removed]"
          },
          "metadata": {}
        }
      ]
    },
    {
      "cell_type": "markdown",
      "source": [
        "Jalankan prediksi pada kalimat baru:\n",
        "\n",
        "Jika prediksi >= 0,0 berarti positif, jika tidak maka negatif."
      ],
      "metadata": {
        "id": "V5zRMb-0xrPp"
      }
    },
    {
      "cell_type": "code",
      "source": [
        "sample_text = ('The movie was cool. The animation and the graphics '\n",
        "              'were out of this world. I would recommend this movie.')\n",
        "predictions = model.predict(np.array([sample_text]))"
      ],
      "metadata": {
        "colab": {
          "base_uri": "https://localhost:8080/"
        },
        "id": "TrmqqRQvxrr_",
        "outputId": "7ebe2812-c987-42ea-ce66-a71b39851cae"
      },
      "execution_count": 18,
      "outputs": [
        {
          "output_type": "stream",
          "name": "stdout",
          "text": [
            "1/1 [==============================] - 2s 2s/step\n"
          ]
        }
      ]
    },
    {
      "cell_type": "markdown",
      "source": [
        "### Stack two or more LSTM layers\n",
        "\n",
        "Lapisan berulang Keras memiliki dua mode yang tersedia yang dikontrol oleh argumen konstruktor return_sequences :\n",
        "- Jika False, ia hanya mengembalikan keluaran terakhir untuk setiap urutan masukan (bentuk tensor 2D (batch_size, output_features)). Ini adalah default yang digunakan pada model sebelumnya.\n",
        "- Jika True, Sequence lengkap output berturut-turut untuk setiap langkah waktu dikembalikan (bentuk tensor 3D (ukuran_batch, langkah waktu, fitur_output))."
      ],
      "metadata": {
        "id": "uiXy_ZT6xvFK"
      }
    },
    {
      "cell_type": "markdown",
      "source": [
        "Berikut adalah alur informasi dengan return_sequences=True:\n",
        "\n",
        "![Screenshot_787.png](data:image/png;base64,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)"
      ],
      "metadata": {
        "id": "60uD-_5Yx2nm"
      }
    },
    {
      "cell_type": "markdown",
      "source": [
        "Hal yang menarik dari penggunaan RNN dengan return_sequences=True adalah outputnya masih memiliki 3 axis, sama seperti inputnya, sehingga bisa diteruskan ke layer RNN lain, seperti ini:"
      ],
      "metadata": {
        "id": "YCkCqkCIyEJt"
      }
    },
    {
      "cell_type": "code",
      "source": [
        "model = tf.keras.Sequential([\n",
        "  encoder,\n",
        "  tf.keras.layers.Embedding(len(encoder.get_vocabulary()), 64, mask_zero=True),\n",
        "  tf.keras.layers.Bidirectional(tf.keras.layers.LSTM(64, return_sequences=True)),\n",
        "  tf.keras.layers.Bidirectional(tf.keras.layers.LSTM(32)),\n",
        "  tf.keras.layers.Dense(64, activation='relu'),\n",
        "  tf.keras.layers.Dropout(0.5),\n",
        "  tf.keras.layers.Dense(1)\n",
        "])"
      ],
      "metadata": {
        "id": "xe4sxT9GyFzY"
      },
      "execution_count": 19,
      "outputs": []
    },
    {
      "cell_type": "code",
      "source": [
        "model.compile(loss=tf.keras.losses.BinaryCrossentropy(from_logits=True),\n",
        "              optimizer=tf.keras.optimizers.Adam(1e-4),\n",
        "              metrics=['accuracy'])"
      ],
      "metadata": {
        "id": "NHIxrOzRyHga"
      },
      "execution_count": 20,
      "outputs": []
    },
    {
      "cell_type": "code",
      "source": [
        "history = model.fit(train_dataset, epochs=10,\n",
        "                    validation_data=test_dataset,\n",
        "                    validation_steps=30)"
      ],
      "metadata": {
        "colab": {
          "base_uri": "https://localhost:8080/"
        },
        "id": "ncNJ7sRSyIhA",
        "outputId": "f4a705da-6f22-4f5d-a708-eb24893d043c"
      },
      "execution_count": 21,
      "outputs": [
        {
          "output_type": "stream",
          "name": "stdout",
          "text": [
            "Epoch 1/10\n",
            "391/391 [==============================] - 76s 152ms/step - loss: 0.6225 - accuracy: 0.5862 - val_loss: 0.4212 - val_accuracy: 0.8198\n",
            "Epoch 2/10\n",
            "391/391 [==============================] - 46s 117ms/step - loss: 0.3818 - accuracy: 0.8335 - val_loss: 0.3423 - val_accuracy: 0.8495\n",
            "Epoch 3/10\n",
            "391/391 [==============================] - 45s 115ms/step - loss: 0.3329 - accuracy: 0.8569 - val_loss: 0.3499 - val_accuracy: 0.8568\n",
            "Epoch 4/10\n",
            "391/391 [==============================] - 46s 116ms/step - loss: 0.3174 - accuracy: 0.8652 - val_loss: 0.3295 - val_accuracy: 0.8589\n",
            "Epoch 5/10\n",
            "391/391 [==============================] - 47s 118ms/step - loss: 0.3078 - accuracy: 0.8693 - val_loss: 0.3143 - val_accuracy: 0.8578\n",
            "Epoch 6/10\n",
            "391/391 [==============================] - 45s 116ms/step - loss: 0.3038 - accuracy: 0.8702 - val_loss: 0.3321 - val_accuracy: 0.8365\n",
            "Epoch 7/10\n",
            "391/391 [==============================] - 47s 119ms/step - loss: 0.3000 - accuracy: 0.8701 - val_loss: 0.3167 - val_accuracy: 0.8521\n",
            "Epoch 8/10\n",
            "391/391 [==============================] - 45s 115ms/step - loss: 0.2982 - accuracy: 0.8712 - val_loss: 0.3252 - val_accuracy: 0.8516\n",
            "Epoch 9/10\n",
            "391/391 [==============================] - 45s 116ms/step - loss: 0.2959 - accuracy: 0.8720 - val_loss: 0.3170 - val_accuracy: 0.8667\n",
            "Epoch 10/10\n",
            "391/391 [==============================] - 45s 116ms/step - loss: 0.2908 - accuracy: 0.8760 - val_loss: 0.3177 - val_accuracy: 0.8661\n"
          ]
        }
      ]
    },
    {
      "cell_type": "code",
      "source": [
        "test_loss, test_acc = model.evaluate(test_dataset)\n",
        "\n",
        "print('Test Loss:', test_loss)\n",
        "print('Test Accuracy:', test_acc)"
      ],
      "metadata": {
        "colab": {
          "base_uri": "https://localhost:8080/"
        },
        "id": "AY1gzYNpyLjx",
        "outputId": "7ecabf17-973a-4eba-e8b2-acd2d329e083"
      },
      "execution_count": 22,
      "outputs": [
        {
          "output_type": "stream",
          "name": "stdout",
          "text": [
            "391/391 [==============================] - 18s 47ms/step - loss: 0.3183 - accuracy: 0.8614\n",
            "Test Loss: 0.3183344304561615\n",
            "Test Accuracy: 0.8614400029182434\n"
          ]
        }
      ]
    },
    {
      "cell_type": "code",
      "source": [
        "# predict on a sample text without padding.\n",
        "\n",
        "sample_text = ('The movie was not good. The animation and the graphics '\n",
        "              'were terrible. I would not recommend this movie.')\n",
        "predictions = model.predict(np.array([sample_text]))\n",
        "print(predictions)"
      ],
      "metadata": {
        "colab": {
          "base_uri": "https://localhost:8080/"
        },
        "id": "bhH-z9sXyMke",
        "outputId": "33de48a1-015d-4168-cab5-3bf46692ccf3"
      },
      "execution_count": 23,
      "outputs": [
        {
          "output_type": "stream",
          "name": "stdout",
          "text": [
            "1/1 [==============================] - 5s 5s/step\n",
            "[[-1.7697862]]\n"
          ]
        }
      ]
    },
    {
      "cell_type": "code",
      "source": [
        "plt.figure(figsize=(16, 6))\n",
        "plt.subplot(1, 2, 1)\n",
        "plot_graphs(history, 'accuracy')\n",
        "plt.subplot(1, 2, 2)\n",
        "plot_graphs(history, 'loss')"
      ],
      "metadata": {
        "colab": {
          "base_uri": "https://localhost:8080/",
          "height": 542
        },
        "id": "lIHEUM2XyNgx",
        "outputId": "1382bd89-b07d-46f0-c6e5-52a049fcbe01"
      },
      "execution_count": 24,
      "outputs": [
        {
          "output_type": "display_data",
          "data": {
            "text/plain": [
              "<Figure size 1600x600 with 2 Axes>"
            ],
            "image/png": "[encoded data removed]"
          },
          "metadata": {}
        }
      ]
    },
    {
      "cell_type": "markdown",
      "metadata": {
        "id": "CpCjIYDh2hLt"
      },
      "source": [
        "<br>"
      ]
    },
    {
      "cell_type": "markdown",
      "metadata": {
        "id": "SVN_uEq22kVZ"
      },
      "source": [
        "# Praktikum 2 - Generator Teks dengan RNN"
      ]
    },
    {
      "cell_type": "markdown",
      "source": [
        "Praktikum ini mendemonstrasikan cara melakukan genearsi text menggunakan RNN. Dataset yang digunkan adalah dataset Shakespeare's writing from Andrej Karpathy's The Unreasonable Effectiveness of Recurrent Neural Networks. Jika diberikan urutan karakter dari data ini (\"Shakespear\"), latih model untuk memprediksi karakter berikutnya dalam urutan (\"e\"). Urutan teks yang lebih panjang dapat dihasilkan dengan memanggil model berulang kali.\n",
        "\n",
        "Note: Enable GPU acceleration to execute this notebook faster. In Colab: Runtime > Change runtime type > Hardware accelerator > GPU.\n",
        "\n",
        "Tutorial ini menggunakan tf.keras dan eager execution. Berikut adalah contoh output ketika model dalam tutorial ini dilatih selama 30 epoch, dan dimulai dengan prompt \"Q\":\n",
        "\n",
        "\n",
        "\n",
        "```\n",
        "QUEENE:\n",
        "I had thought thou hadst a Roman; for the oracle,\n",
        "Thus by All bids the man against the word,\n",
        "Which are so weak of care, by old care done;\n",
        "Your children were in your holy love,\n",
        "And the precipitation through the bleeding throne.\n",
        "\n",
        "BISHOP OF ELY:\n",
        "Marry, and will, my lord, to weep in such a one were prettiest;\n",
        "Yet now I was adopted heir\n",
        "Of the world's lamentable day,\n",
        "To watch the next way with his father with his face?\n",
        "\n",
        "ESCALUS:\n",
        "The cause why then we are all resolved more sons.\n",
        "\n",
        "VOLUMNIA:\n",
        "O, no, no, no, no, no, no, no, no, no, no, no, no, no, no, no, no, no, no, no, no, it is no sin it should be dead,\n",
        "And love and pale as any will to that word.\n",
        "\n",
        "QUEEN ELIZABETH:\n",
        "But how long have I heard the soul for this world,\n",
        "And show his hands of life be proved to stand.\n",
        "\n",
        "PETRUCHIO:\n",
        "I say he look'd on, if I must be content\n",
        "To stay him from the fatal of our country's bliss.\n",
        "His lordship pluck'd from this sentence then for prey,\n",
        "And then let us twain, being the moon,\n",
        "were she such a case as fills m\n",
        "```\n",
        "\n",
        "Meskipun beberapa kalimat memiliki tata bahasa, sebagian besar tidak masuk akal. Model belum mempelajari arti kata-kata, namun anggap saja:\n",
        "- Modelnya berbasis karakter. Saat pelatihan dimulai, model tidak mengetahui cara mengeja kata dalam bahasa Inggris, atau bahkan kata-kata tersebut merupakan satuan teks.\n",
        "- Struktur keluarannya menyerupai sandiwara—blok teks umumnya dimulai dengan nama pembicara, dengan huruf kapital semua mirip dengan kumpulan data.\n",
        "- Seperti yang ditunjukkan di bawah, model dilatih pada kumpulan teks kecil (masing-masing 100 karakter), dan masih mampu menghasilkan rangkaian teks yang lebih panjang dengan struktur yang koheren."
      ],
      "metadata": {
        "id": "FOAnHrgO0n8B"
      }
    },
    {
      "cell_type": "markdown",
      "metadata": {
        "id": "siIRfxvx2o5U"
      },
      "source": [
        "### Setup"
      ]
    },
    {
      "cell_type": "markdown",
      "source": [
        "<b> Import TensorFlow </b>"
      ],
      "metadata": {
        "id": "wigOfBOxzWS5"
      }
    },
    {
      "cell_type": "code",
      "execution_count": 25,
      "metadata": {
        "id": "Uuoeewcq2jwc"
      },
      "outputs": [],
      "source": [
        "import tensorflow as tf\n",
        "import numpy as np\n",
        "import os\n",
        "import time"
      ]
    },
    {
      "cell_type": "markdown",
      "source": [
        "<b> Download Dataset Shakespeare </b>\n",
        "\n",
        "Sesuaikan dengan lokasi data yang Anda punya."
      ],
      "metadata": {
        "id": "409oCvdIziAC"
      }
    },
    {
      "cell_type": "code",
      "source": [
        "path_to_file = tf.keras.utils.get_file('shakespeare.txt', 'https://storage.googleapis.com/download.tensorflow.org/data/shakespeare.txt')"
      ],
      "metadata": {
        "colab": {
          "base_uri": "https://localhost:8080/"
        },
        "id": "hm6-tExjzn5_",
        "outputId": "a4d7369c-dfbd-43af-8dc1-25a0255e19e1"
      },
      "execution_count": 26,
      "outputs": [
        {
          "output_type": "stream",
          "name": "stdout",
          "text": [
            "Downloading data from https://storage.googleapis.com/download.tensorflow.org/data/shakespeare.txt\n",
            "1115394/1115394 [==============================] - 0s 0us/step\n"
          ]
        }
      ]
    },
    {
      "cell_type": "markdown",
      "source": [
        "<b> Load Data </b>"
      ],
      "metadata": {
        "id": "mF1ibH1Tztos"
      }
    },
    {
      "cell_type": "code",
      "source": [
        "# Read, then decode for py2 compat.\n",
        "text = open(path_to_file, 'rb').read().decode(encoding='utf-8')\n",
        "# length of text is the number of characters in it\n",
        "print(f'Length of text: {len(text)} characters')"
      ],
      "metadata": {
        "colab": {
          "base_uri": "https://localhost:8080/"
        },
        "id": "vdTfyjzkzwuT",
        "outputId": "709d3c59-3864-41aa-b23d-8728b8294a45"
      },
      "execution_count": 27,
      "outputs": [
        {
          "output_type": "stream",
          "name": "stdout",
          "text": [
            "Length of text: 1115394 characters\n"
          ]
        }
      ]
    },
    {
      "cell_type": "code",
      "source": [
        "# Take a look at the first 250 characters in text\n",
        "print(text[:250])"
      ],
      "metadata": {
        "colab": {
          "base_uri": "https://localhost:8080/"
        },
        "id": "ZmH-D9nuzx5F",
        "outputId": "c76f6ea9-5c24-4773-a083-87ed2327c57c"
      },
      "execution_count": 28,
      "outputs": [
        {
          "output_type": "stream",
          "name": "stdout",
          "text": [
            "First Citizen:\n",
            "Before we proceed any further, hear me speak.\n",
            "\n",
            "All:\n",
            "Speak, speak.\n",
            "\n",
            "First Citizen:\n",
            "You are all resolved rather to die than to famish?\n",
            "\n",
            "All:\n",
            "Resolved. resolved.\n",
            "\n",
            "First Citizen:\n",
            "First, you know Caius Marcius is chief enemy to the people.\n",
            "\n"
          ]
        }
      ]
    },
    {
      "cell_type": "code",
      "source": [
        "# The unique characters in the file\n",
        "vocab = sorted(set(text))\n",
        "print(f'{len(vocab)} unique characters')"
      ],
      "metadata": {
        "colab": {
          "base_uri": "https://localhost:8080/"
        },
        "id": "13MMfdtqzyv1",
        "outputId": "ca0d8d46-4fac-4ce0-adc2-1780fe106680"
      },
      "execution_count": 29,
      "outputs": [
        {
          "output_type": "stream",
          "name": "stdout",
          "text": [
            "65 unique characters\n"
          ]
        }
      ]
    },
    {
      "cell_type": "markdown",
      "source": [
        "### Olah Teks"
      ],
      "metadata": {
        "id": "PMCfn2TPzzu3"
      }
    },
    {
      "cell_type": "markdown",
      "source": [
        "<b> Vectorize Teks </b>\n",
        "\n",
        "Sebelum training, Anda perlu mengonversi string menjadi representasi numerik. tf.keras.layers.StringLookup dapat mengubah setiap karakter menjadi ID numerik. Caranya adalah teks akan dipecah menjadi token terlebih dahulu."
      ],
      "metadata": {
        "id": "ZstyhEEIz1na"
      }
    },
    {
      "cell_type": "code",
      "source": [
        "example_texts = ['abcdefg', 'xyz']\n",
        "chars = tf.strings.unicode_split(example_texts, input_encoding='UTF-8')\n",
        "chars"
      ],
      "metadata": {
        "colab": {
          "base_uri": "https://localhost:8080/"
        },
        "id": "QpoQrKwBz5Fj",
        "outputId": "4480ab53-e82b-48a9-85c9-3f18f84e6af3"
      },
      "execution_count": 30,
      "outputs": [
        {
          "output_type": "execute_result",
          "data": {
            "text/plain": [
              "<tf.RaggedTensor [[b'a', b'b', b'c', b'd', b'e', b'f', b'g'], [b'x', b'y', b'z']]>"
            ]
          },
          "metadata": {},
          "execution_count": 30
        }
      ]
    },
    {
      "cell_type": "markdown",
      "source": [
        "sekarang buat tf.keras.layers.StringLookup layer:"
      ],
      "metadata": {
        "id": "diiutaknz6uS"
      }
    },
    {
      "cell_type": "code",
      "source": [
        "ids_from_chars = tf.keras.layers.StringLookup(\n",
        "vocabulary=list(vocab), mask_token=None)"
      ],
      "metadata": {
        "id": "CtoSG5phz79M"
      },
      "execution_count": 31,
      "outputs": []
    },
    {
      "cell_type": "markdown",
      "source": [
        "perintah diatas mengconvert token menjadi id"
      ],
      "metadata": {
        "id": "QkvHXZXaz9jn"
      }
    },
    {
      "cell_type": "code",
      "source": [
        "ids = ids_from_chars(chars)\n",
        "ids"
      ],
      "metadata": {
        "colab": {
          "base_uri": "https://localhost:8080/"
        },
        "id": "BgawD9tSz98u",
        "outputId": "ea2c6914-c018-478c-ba27-8adb64214789"
      },
      "execution_count": 32,
      "outputs": [
        {
          "output_type": "execute_result",
          "data": {
            "text/plain": [
              "<tf.RaggedTensor [[40, 41, 42, 43, 44, 45, 46], [63, 64, 65]]>"
            ]
          },
          "metadata": {},
          "execution_count": 32
        }
      ]
    },
    {
      "cell_type": "markdown",
      "source": [
        "Karena tujuan tutorial ini adalah untuk menghasilkan teks, penting juga untuk membalikkan representasi ini. Untuk ini Anda dapat menggunakan kode tf.keras.layers.StringLookup(..., invert=True).\n",
        "\n",
        "Catatan: pada kode ini, daripada meneruskan kosakata asli yang dihasilkan dengan diurutkan(set(teks)) gunakan metode get_vocabulary() dari tf.keras.layers.StringLookup sehingga token [UNK] disetel dengan cara yang sama."
      ],
      "metadata": {
        "id": "I4Dkm8_uz_TL"
      }
    },
    {
      "cell_type": "code",
      "source": [
        "chars_from_ids = tf.keras.layers.StringLookup(\n",
        "    vocabulary=ids_from_chars.get_vocabulary(), invert=True, mask_token=None)"
      ],
      "metadata": {
        "id": "m-FQzqDd0C_6"
      },
      "execution_count": 33,
      "outputs": []
    },
    {
      "cell_type": "markdown",
      "source": [
        "Lapisan ini mengconvert kembali karakter dari vektor ID, dan mengembalikannya sebagai karakter tf.RaggedTensor:"
      ],
      "metadata": {
        "id": "9a8lEbEq0EA_"
      }
    },
    {
      "cell_type": "code",
      "source": [
        "chars = chars_from_ids(ids)\n",
        "chars"
      ],
      "metadata": {
        "colab": {
          "base_uri": "https://localhost:8080/"
        },
        "id": "bxsOnFlC0FNF",
        "outputId": "98d428b1-804f-4b89-d2ad-9e7fd89616fb"
      },
      "execution_count": 34,
      "outputs": [
        {
          "output_type": "execute_result",
          "data": {
            "text/plain": [
              "<tf.RaggedTensor [[b'a', b'b', b'c', b'd', b'e', b'f', b'g'], [b'x', b'y', b'z']]>"
            ]
          },
          "metadata": {},
          "execution_count": 34
        }
      ]
    },
    {
      "cell_type": "markdown",
      "source": [
        "Anda dapat menggunakan tf.strings.reduce_join untuk menggabungkan kembali karakter menjadi string."
      ],
      "metadata": {
        "id": "_KYeTKcA0HUO"
      }
    },
    {
      "cell_type": "code",
      "source": [
        "tf.strings.reduce_join(chars, axis=-1).numpy()"
      ],
      "metadata": {
        "colab": {
          "base_uri": "https://localhost:8080/"
        },
        "id": "xI6zvS6C0II-",
        "outputId": "7d40c45a-bb8c-431b-fdc9-cdfa6af5886a"
      },
      "execution_count": 35,
      "outputs": [
        {
          "output_type": "execute_result",
          "data": {
            "text/plain": [
              "array([b'abcdefg', b'xyz'], dtype=object)"
            ]
          },
          "metadata": {},
          "execution_count": 35
        }
      ]
    },
    {
      "cell_type": "code",
      "source": [
        "def text_from_ids(ids):\n",
        "    return tf.strings.reduce_join(chars_from_ids(ids), axis=-1)"
      ],
      "metadata": {
        "id": "vug7Smze0I9t"
      },
      "execution_count": 36,
      "outputs": []
    },
    {
      "cell_type": "markdown",
      "source": [
        "### Prediksi\n",
        "\n",
        "Diberikan sebuah karakter, atau serangkaian karakter, karakter apa yang paling mungkin berikutnya? Ini adalah tugas yang harus Anda latih agar model dapat melakukannya. Masukan ke model akan berupa urutan karakter, dan Anda melatih model untuk memprediksi keluaran berupa karakter berikut pada setiap langkah waktu. Karena RNN mempertahankan keadaan internal yang bergantung pada elemen yang terlihat sebelumnya, mengingat semua karakter dihitung hingga saat ini, karakter apa selanjutnya?"
      ],
      "metadata": {
        "id": "KLwrDc8b0KaO"
      }
    },
    {
      "cell_type": "markdown",
      "source": [
        "<b> Membuat Trianing Set dan Target </b>\n",
        "\n",
        "Selanjutnya bagilah teks menjadi contoh sequence. Setiap masukan sequence akan berisi karakter seq_length dari teks. Untuk setiap masukan sequence, target prediksi berisi teks dengan panjang yang sama, hanya digeser satu karakter ke kanan. Jadi, bagi teks menjadi beberapa bagian seq_length+1. Misalnya, seq_length adalah 4 dan teks kita adalah \"Hello\". Urutan masukannya adalah \"Hell\", dan urutan targetnya adalah \"ello\". Untuk melakukan ini, pertama-tama gunakan fungsi tf.data.Dataset.from_tensor_slices untuk mengonversi vektor teks menjadi aliran indeks karakter."
      ],
      "metadata": {
        "id": "2wwE4XW60QJ6"
      }
    },
    {
      "cell_type": "code",
      "source": [
        "all_ids = ids_from_chars(tf.strings.unicode_split(text, 'UTF-8'))\n",
        "all_ids"
      ],
      "metadata": {
        "colab": {
          "base_uri": "https://localhost:8080/"
        },
        "id": "BlxSA-Ix0Vtt",
        "outputId": "b05f7ed1-6197-4b27-ccc3-4dae6f16a50a"
      },
      "execution_count": 37,
      "outputs": [
        {
          "output_type": "execute_result",
          "data": {
            "text/plain": [
              "<tf.Tensor: shape=(1115394,), dtype=int64, numpy=array([19, 48, 57, ..., 46,  9,  1])>"
            ]
          },
          "metadata": {},
          "execution_count": 37
        }
      ]
    },
    {
      "cell_type": "code",
      "source": [
        "ids_dataset = tf.data.Dataset.from_tensor_slices(all_ids)"
      ],
      "metadata": {
        "id": "mQyXK6v90WYH"
      },
      "execution_count": 38,
      "outputs": []
    },
    {
      "cell_type": "code",
      "source": [
        "for ids in ids_dataset.take(10):\n",
        "    print(chars_from_ids(ids).numpy().decode('utf-8'))"
      ],
      "metadata": {
        "colab": {
          "base_uri": "https://localhost:8080/"
        },
        "id": "NfDfcBeJ0XLz",
        "outputId": "e77bbed6-4a99-402f-da5b-b23664ed19c6"
      },
      "execution_count": 39,
      "outputs": [
        {
          "output_type": "stream",
          "name": "stdout",
          "text": [
            "F\n",
            "i\n",
            "r\n",
            "s\n",
            "t\n",
            " \n",
            "C\n",
            "i\n",
            "t\n",
            "i\n"
          ]
        }
      ]
    },
    {
      "cell_type": "code",
      "source": [
        "seq_length = 100"
      ],
      "metadata": {
        "id": "6ibivHPX0YVH"
      },
      "execution_count": 40,
      "outputs": []
    },
    {
      "cell_type": "markdown",
      "source": [
        "Metode batch memungkinkan Anda dengan mudah mengonversi karakter individual ini menjadi urutan ukuran yang diinginkan."
      ],
      "metadata": {
        "id": "ZZj-Bqy10ZXv"
      }
    },
    {
      "cell_type": "code",
      "source": [
        "sequences = ids_dataset.batch(seq_length+1, drop_remainder=True)\n",
        "\n",
        "for seq in sequences.take(1):\n",
        "  print(chars_from_ids(seq))"
      ],
      "metadata": {
        "colab": {
          "base_uri": "https://localhost:8080/"
        },
        "id": "iNdTh7400aFo",
        "outputId": "35f8bbee-c6c8-4f05-f4ea-7194b7a1f152"
      },
      "execution_count": 41,
      "outputs": [
        {
          "output_type": "stream",
          "name": "stdout",
          "text": [
            "tf.Tensor(\n",
            "[b'F' b'i' b'r' b's' b't' b' ' b'C' b'i' b't' b'i' b'z' b'e' b'n' b':'\n",
            " b'\\n' b'B' b'e' b'f' b'o' b'r' b'e' b' ' b'w' b'e' b' ' b'p' b'r' b'o'\n",
            " b'c' b'e' b'e' b'd' b' ' b'a' b'n' b'y' b' ' b'f' b'u' b'r' b't' b'h'\n",
            " b'e' b'r' b',' b' ' b'h' b'e' b'a' b'r' b' ' b'm' b'e' b' ' b's' b'p'\n",
            " b'e' b'a' b'k' b'.' b'\\n' b'\\n' b'A' b'l' b'l' b':' b'\\n' b'S' b'p' b'e'\n",
            " b'a' b'k' b',' b' ' b's' b'p' b'e' b'a' b'k' b'.' b'\\n' b'\\n' b'F' b'i'\n",
            " b'r' b's' b't' b' ' b'C' b'i' b't' b'i' b'z' b'e' b'n' b':' b'\\n' b'Y'\n",
            " b'o' b'u' b' '], shape=(101,), dtype=string)\n"
          ]
        }
      ]
    },
    {
      "cell_type": "markdown",
      "source": [
        "akan lebih mudah untuk melihat apa yang dilakukan jika Anda menggabungkan token kembali menjadi string:"
      ],
      "metadata": {
        "id": "n-axNd3t0b1L"
      }
    },
    {
      "cell_type": "code",
      "source": [
        "for seq in sequences.take(5):\n",
        "    print(text_from_ids(seq).numpy())"
      ],
      "metadata": {
        "colab": {
          "base_uri": "https://localhost:8080/"
        },
        "id": "Dm2Rv9oL0cwH",
        "outputId": "e549b55b-c803-410d-c05c-59e02564c012"
      },
      "execution_count": 42,
      "outputs": [
        {
          "output_type": "stream",
          "name": "stdout",
          "text": [
            "b'First Citizen:\\nBefore we proceed any further, hear me speak.\\n\\nAll:\\nSpeak, speak.\\n\\nFirst Citizen:\\nYou '\n",
            "b'are all resolved rather to die than to famish?\\n\\nAll:\\nResolved. resolved.\\n\\nFirst Citizen:\\nFirst, you k'\n",
            "b\"now Caius Marcius is chief enemy to the people.\\n\\nAll:\\nWe know't, we know't.\\n\\nFirst Citizen:\\nLet us ki\"\n",
            "b\"ll him, and we'll have corn at our own price.\\nIs't a verdict?\\n\\nAll:\\nNo more talking on't; let it be d\"\n",
            "b'one: away, away!\\n\\nSecond Citizen:\\nOne word, good citizens.\\n\\nFirst Citizen:\\nWe are accounted poor citi'\n"
          ]
        }
      ]
    },
    {
      "cell_type": "markdown",
      "source": [
        "Untuk pelatihan, Anda memerlukan kumpulan data pasangan (input, label). Dimana input dan label merupakan urutan. Pada setiap langkah waktu, inputnya adalah karakter saat ini dan labelnya adalah karakter berikutnya. Berikut adalah fungsi yang mengambil urutan sebagai masukan, menduplikasi, dan menggesernya untuk menyelaraskan masukan dan label untuk setiap langkah waktu:"
      ],
      "metadata": {
        "id": "Kw6oOLe00d2-"
      }
    },
    {
      "cell_type": "code",
      "source": [
        "def split_input_target(sequence):\n",
        "  input_text = sequence[:-1]\n",
        "  target_text = sequence[1:]\n",
        "  return input_text, target_text"
      ],
      "metadata": {
        "id": "ySqLasJr0eZF"
      },
      "execution_count": 43,
      "outputs": []
    },
    {
      "cell_type": "code",
      "source": [
        "split_input_target(list(\"Tensorflow\"))"
      ],
      "metadata": {
        "colab": {
          "base_uri": "https://localhost:8080/"
        },
        "id": "OffZRlWa0glS",
        "outputId": "307abe5d-a0c0-4d5b-a9bb-c8cacca9753b"
      },
      "execution_count": 44,
      "outputs": [
        {
          "output_type": "execute_result",
          "data": {
            "text/plain": [
              "(['T', 'e', 'n', 's', 'o', 'r', 'f', 'l', 'o'],\n",
              " ['e', 'n', 's', 'o', 'r', 'f', 'l', 'o', 'w'])"
            ]
          },
          "metadata": {},
          "execution_count": 44
        }
      ]
    },
    {
      "cell_type": "code",
      "source": [
        "dataset = sequences.map(split_input_target)"
      ],
      "metadata": {
        "id": "n7RH1aM_0hcA"
      },
      "execution_count": 45,
      "outputs": []
    },
    {
      "cell_type": "code",
      "source": [
        "for input_example, target_example in dataset.take(1):\n",
        "  print(\"Input :\", text_from_ids(input_example).numpy())\n",
        "  print(\"Target:\", text_from_ids(target_example).numpy())"
      ],
      "metadata": {
        "colab": {
          "base_uri": "https://localhost:8080/"
        },
        "id": "bl6BGx9E0iHe",
        "outputId": "89e443c4-427f-40ea-83d9-425b84b3bb45"
      },
      "execution_count": 46,
      "outputs": [
        {
          "output_type": "stream",
          "name": "stdout",
          "text": [
            "Input : b'First Citizen:\\nBefore we proceed any further, hear me speak.\\n\\nAll:\\nSpeak, speak.\\n\\nFirst Citizen:\\nYou'\n",
            "Target: b'irst Citizen:\\nBefore we proceed any further, hear me speak.\\n\\nAll:\\nSpeak, speak.\\n\\nFirst Citizen:\\nYou '\n"
          ]
        }
      ]
    },
    {
      "cell_type": "markdown",
      "source": [
        "<b> Membuat Batch Training </b>\n",
        "\n",
        "Anda menggunakan tf.data untuk membagi teks menjadi sequence yang dapat diatur. Namun sebelum memasukkan data ini ke dalam model, Anda perlu mengacak data dan mengemasnya ke dalam batch."
      ],
      "metadata": {
        "id": "TAw4MovN0jdj"
      }
    },
    {
      "cell_type": "code",
      "source": [
        "# Batch size\n",
        "BATCH_SIZE = 64\n",
        "\n",
        "# Buffer size to shuffle the dataset\n",
        "# (TF data is designed to work with possibly infinite sequences,\n",
        "# so it doesn't attempt to shuffle the entire sequence in memory. Instead,\n",
        "# it maintains a buffer in which it shuffles elements).\n",
        "BUFFER_SIZE = 10000\n",
        "\n",
        "dataset = (\n",
        "    dataset\n",
        "    .shuffle(BUFFER_SIZE)\n",
        "    .batch(BATCH_SIZE, drop_remainder=True)\n",
        "    .prefetch(tf.data.experimental.AUTOTUNE))\n",
        "\n",
        "dataset"
      ],
      "metadata": {
        "colab": {
          "base_uri": "https://localhost:8080/"
        },
        "id": "1WNE9Krp0mtR",
        "outputId": "fab02bcb-8e51-4f58-917b-b7f05e40ce0f"
      },
      "execution_count": 47,
      "outputs": [
        {
          "output_type": "execute_result",
          "data": {
            "text/plain": [
              "<_PrefetchDataset element_spec=(TensorSpec(shape=(64, 100), dtype=tf.int64, name=None), TensorSpec(shape=(64, 100), dtype=tf.int64, name=None))>"
            ]
          },
          "metadata": {},
          "execution_count": 47
        }
      ]
    },
    {
      "cell_type": "markdown",
      "source": [
        "### Buat Model\n",
        "\n",
        "Bagian ini mendefinisikan model sebagai subkelas keras.Model (untuk lebih detilnya, lihat Making new Layers and Models via subclassing)."
      ],
      "metadata": {
        "id": "QoOWTR2o0pFe"
      }
    },
    {
      "cell_type": "markdown",
      "source": [
        "Model yang kita bangun memiliki 3 lapisan neural network :\n",
        "- tf.keras.layers.Embedding: Lapisan masukan. Tabel pencarian yang dapat dilatih yang akan memetakan setiap karakter-ID ke vektor dengan dimensi embedding_dim;\n",
        "- tf.keras.layers.GRU: lapisan RNN dengan ukuran unit=rnn_units (Anda juga dapat menggunakan lapisan LSTM di sini.)\n",
        "- tf.keras.layers.Dense: Lapisan keluaran, dengan keluaran vocab_size. Ini menghasilkan satu logit untuk setiap karakter dalam kosakata. Ini adalah log kemungkinan setiap karakter menurut model."
      ],
      "metadata": {
        "id": "5DfR_dya0tvY"
      }
    },
    {
      "cell_type": "code",
      "source": [
        "# Length of the vocabulary in StringLookup Layer\n",
        "vocab_size = len(ids_from_chars.get_vocabulary())\n",
        "\n",
        "# The embedding dimension\n",
        "embedding_dim = 256\n",
        "\n",
        "# Number of RNN units\n",
        "rnn_units = 1024"
      ],
      "metadata": {
        "id": "D7TA0z650xjB"
      },
      "execution_count": 48,
      "outputs": []
    },
    {
      "cell_type": "code",
      "source": [
        "class MyModel(tf.keras.Model):\n",
        "  def __init__(self, vocab_size, embedding_dim, rnn_units):\n",
        "    super().__init__(self)\n",
        "    self.embedding = tf.keras.layers.Embedding(vocab_size, embedding_dim)\n",
        "    self.gru = tf.keras.layers.GRU(rnn_units,\n",
        "                                   return_sequences=True,\n",
        "                                   return_state=True)\n",
        "    self.dense = tf.keras.layers.Dense(vocab_size)\n",
        "\n",
        "  def call(self, inputs, states=None, return_state=False, training=False):\n",
        "    x = inputs\n",
        "    x = self.embedding(x, training=training)\n",
        "    if states is None:\n",
        "      states = self.gru.get_initial_state(x)\n",
        "    x, states = self.gru(x, initial_state=states, training=training)\n",
        "    x = self.dense(x, training=training)\n",
        "\n",
        "    if return_state:\n",
        "      return x, states\n",
        "    else:\n",
        "      return x"
      ],
      "metadata": {
        "id": "0N-kSFuD0y5R"
      },
      "execution_count": 49,
      "outputs": []
    },
    {
      "cell_type": "code",
      "source": [
        "model = MyModel(\n",
        "    vocab_size=vocab_size,\n",
        "    embedding_dim=embedding_dim,\n",
        "    rnn_units=rnn_units)"
      ],
      "metadata": {
        "id": "cN9ANiFJ01B6"
      },
      "execution_count": 50,
      "outputs": []
    },
    {
      "cell_type": "markdown",
      "source": [
        "Untuk setiap karakter, model mencari penyematan, menjalankan GRU satu langkah waktu dengan penyematan sebagai masukan, dan menerapkan dense layer untuk menghasilkan log yang memprediksi kemungkinan log karakter berikutnya:\n",
        "\n",
        "![Screenshot_788.png](data:image/png;base64,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)"
      ],
      "metadata": {
        "id": "ICuSS_R9018q"
      }
    },
    {
      "cell_type": "markdown",
      "source": [
        "Note: Untuk pelatihan Anda bisa menggunakan model keras.Sequential di sini. Untuk menghasilkan teks nanti, Anda harus mengelola status internal RNN. Akan lebih mudah untuk memasukkan opsi input dan output status di awal, daripada mengatur ulang arsitektur model nanti. untuk detailnya bisa dilihat Keras RNN guide."
      ],
      "metadata": {
        "id": "YBEPFAm308vf"
      }
    },
    {
      "cell_type": "markdown",
      "source": [
        "### Uji Model\n",
        "\n",
        "Coba jalankan model dan cek apakah sidah sesuai dengan output"
      ],
      "metadata": {
        "id": "zS5FyYfU1BqG"
      }
    },
    {
      "cell_type": "markdown",
      "source": [
        "pertama, cek bentuk dari output"
      ],
      "metadata": {
        "id": "ERIxD8dF1ExV"
      }
    },
    {
      "cell_type": "code",
      "source": [
        "for input_example_batch, target_example_batch in dataset.take(1):\n",
        "    example_batch_predictions = model(input_example_batch)\n",
        "    print(example_batch_predictions.shape, \"# (batch_size, sequence_length, vocab_size)\")"
      ],
      "metadata": {
        "colab": {
          "base_uri": "https://localhost:8080/"
        },
        "id": "5s3nAGDV1GHV",
        "outputId": "37de991d-66de-402c-9e7a-eec414f123b5"
      },
      "execution_count": 51,
      "outputs": [
        {
          "output_type": "stream",
          "name": "stdout",
          "text": [
            "(64, 100, 66) # (batch_size, sequence_length, vocab_size)\n"
          ]
        }
      ]
    },
    {
      "cell_type": "markdown",
      "source": [
        "Dalam contoh di atas, panjang urutan masukan adalah 100 tetapi model dapat dijalankan pada masukan dengan panjang berapa pun:"
      ],
      "metadata": {
        "id": "4qC2X20P1HN-"
      }
    },
    {
      "cell_type": "code",
      "source": [
        "model.summary()"
      ],
      "metadata": {
        "colab": {
          "base_uri": "https://localhost:8080/"
        },
        "id": "v3XV5N3y1I-q",
        "outputId": "5c891e5e-3768-4a19-ddc2-2b73cb8ab938"
      },
      "execution_count": 52,
      "outputs": [
        {
          "output_type": "stream",
          "name": "stdout",
          "text": [
            "Model: \"my_model\"\n",
            "_________________________________________________________________\n",
            " Layer (type)                Output Shape              Param #   \n",
            "=================================================================\n",
            " embedding_2 (Embedding)     multiple                  16896     \n",
            "                                                                 \n",
            " gru (GRU)                   multiple                  3938304   \n",
            "                                                                 \n",
            " dense_4 (Dense)             multiple                  67650     \n",
            "                                                                 \n",
            "=================================================================\n",
            "Total params: 4022850 (15.35 MB)\n",
            "Trainable params: 4022850 (15.35 MB)\n",
            "Non-trainable params: 0 (0.00 Byte)\n",
            "_________________________________________________________________\n"
          ]
        }
      ]
    },
    {
      "cell_type": "markdown",
      "source": [
        "Untuk mendapatkan prediksi aktual dari model, Anda perlu mengambil sampel dari distribusi keluaran, untuk mendapatkan indeks karakter aktual. Distribusi ini ditentukan oleh logit pada kosakata karakter. Catatan: Penting untuk mengambil sampel dari distribusi ini karena mengambil argmax dari distribusi tersebut dapat dengan mudah membuat model terjebak dalam infinote loop. Cobalah untuk contoh pertama di batch:"
      ],
      "metadata": {
        "id": "2sKlV-9h1J86"
      }
    },
    {
      "cell_type": "code",
      "source": [
        "sampled_indices = tf.random.categorical(example_batch_predictions[0], num_samples=1)\n",
        "sampled_indices = tf.squeeze(sampled_indices, axis=-1).numpy()"
      ],
      "metadata": {
        "id": "bM7vowSB1LK0"
      },
      "execution_count": 53,
      "outputs": []
    },
    {
      "cell_type": "markdown",
      "source": [
        "Hal ini memberi kita, pada setiap langkah waktu, prediksi indeks karakter berikutnya:"
      ],
      "metadata": {
        "id": "1xbsydpC1NUG"
      }
    },
    {
      "cell_type": "code",
      "source": [
        "sampled_indices"
      ],
      "metadata": {
        "colab": {
          "base_uri": "https://localhost:8080/"
        },
        "id": "4-NLKUR31NtY",
        "outputId": "cd561440-f718-4c4d-a62b-f2a07970dd8c"
      },
      "execution_count": 54,
      "outputs": [
        {
          "output_type": "execute_result",
          "data": {
            "text/plain": [
              "array([35, 30, 36, 45, 15,  4, 37, 12, 23, 37, 62, 28,  0, 24, 44, 45, 45,\n",
              "       24,  4, 25, 50, 47, 52, 14, 61, 53, 10, 15, 59, 59, 34,  7, 30, 34,\n",
              "        4, 55, 64, 36, 14, 25, 36, 25, 48, 53, 11, 56, 46, 22, 27, 47,  7,\n",
              "       42, 34, 38, 28, 33, 51, 20, 51, 22, 64, 55, 61,  2, 45, 33, 13, 52,\n",
              "       27, 45, 10, 34, 31, 54, 58, 10,  3, 37,  7, 47, 19, 59, 35, 21, 48,\n",
              "       23, 36, 55,  8, 51, 41, 21, 30, 31, 63, 55, 31, 50, 24, 42])"
            ]
          },
          "metadata": {},
          "execution_count": 54
        }
      ]
    },
    {
      "cell_type": "markdown",
      "source": [
        "Dekode kode berikut untuk melihat teks yang diprediksi oleh model tidak terlatih ini:"
      ],
      "metadata": {
        "id": "BCqH49oW1Org"
      }
    },
    {
      "cell_type": "code",
      "source": [
        "print(\"Input:\\n\", text_from_ids(input_example_batch[0]).numpy())\n",
        "print()\n",
        "print(\"Next Char Predictions:\\n\", text_from_ids(sampled_indices).numpy())"
      ],
      "metadata": {
        "colab": {
          "base_uri": "https://localhost:8080/"
        },
        "id": "8j78jFPu1Pyr",
        "outputId": "8d088ddf-ae48-4e80-ae45-78e007e01b53"
      },
      "execution_count": 55,
      "outputs": [
        {
          "output_type": "stream",
          "name": "stdout",
          "text": [
            "Input:\n",
            " b' tongue\\nUnfold the imagined happiness that both\\nReceive in either by this dear encounter.\\n\\nJULIET:\\nC'\n",
            "\n",
            "Next Char Predictions:\n",
            " b'VQWfB$X;JXwO[UNK]KeffK$LkhmAvn3BttU,QU$pyWALWLin:qgINh,cUYOTlGlIypv fT?mNf3URos3!X,hFtVHiJWp-lbHQRxpRkKc'\n"
          ]
        }
      ]
    },
    {
      "cell_type": "markdown",
      "source": [
        "### Train Model\n",
        "\n",
        "Pada titik ini permasalahan dapat dianggap sebagai permasalahan klasifikasi standar. Permasalahan dapat disimpulkan dengan : Berdasarkan status RNN sebelumnya, dan masukan langkah kali ini, prediksi kelas karakter berikutnya."
      ],
      "metadata": {
        "id": "m0ixnfP41Qwm"
      }
    },
    {
      "cell_type": "markdown",
      "source": [
        "<b> Tambahan optimizer dan fungsi loss</b>\n",
        "\n",
        "loss function tf.keras.losses.sparse_categorical_crossentropy standar berfungsi dalam kasus ini karena diterapkan di seluruh dimensi terakhir prediksi. Karena model Anda mengembalikan logits, Anda perlu mengatur flag from_logits."
      ],
      "metadata": {
        "id": "TqYxn55O1Tdq"
      }
    },
    {
      "cell_type": "code",
      "source": [
        "loss = tf.losses.SparseCategoricalCrossentropy(from_logits=True)"
      ],
      "metadata": {
        "id": "_yzPmRzM1dOt"
      },
      "execution_count": 56,
      "outputs": []
    },
    {
      "cell_type": "code",
      "source": [
        "example_batch_mean_loss = loss(target_example_batch, example_batch_predictions)\n",
        "print(\"Prediction shape: \", example_batch_predictions.shape, \" # (batch_size, sequence_length, vocab_size)\")\n",
        "print(\"Mean loss:        \", example_batch_mean_loss)"
      ],
      "metadata": {
        "colab": {
          "base_uri": "https://localhost:8080/"
        },
        "id": "hjywIgee1eGB",
        "outputId": "38a5092e-3d72-41af-96cd-9abebb451360"
      },
      "execution_count": 57,
      "outputs": [
        {
          "output_type": "stream",
          "name": "stdout",
          "text": [
            "Prediction shape:  (64, 100, 66)  # (batch_size, sequence_length, vocab_size)\n",
            "Mean loss:         tf.Tensor(4.1904902, shape=(), dtype=float32)\n"
          ]
        }
      ]
    },
    {
      "cell_type": "markdown",
      "source": [
        "Model yang baru diinisialisasi tidak boleh terlalu yakin dengan dirinya sendiri, semua log keluaran harus memiliki besaran yang sama. Untuk mengonfirmasi hal ini, Anda dapat memeriksa bahwa eksponensial dari loss rata-rata harus kira-kira sama dengan ukuran kosakata. Loss yang jauh lebih tinggi berarti model tersebut yakin akan jawaban yang salah, dan memiliki inisialisasi yang buruk:"
      ],
      "metadata": {
        "id": "eYOiv_y71fwW"
      }
    },
    {
      "cell_type": "code",
      "source": [
        "tf.exp(example_batch_mean_loss).numpy()"
      ],
      "metadata": {
        "colab": {
          "base_uri": "https://localhost:8080/"
        },
        "id": "StLEH8h91gsN",
        "outputId": "cb1a0552-ba9e-4a97-a083-45222519fef3"
      },
      "execution_count": 58,
      "outputs": [
        {
          "output_type": "execute_result",
          "data": {
            "text/plain": [
              "66.05517"
            ]
          },
          "metadata": {},
          "execution_count": 58
        }
      ]
    },
    {
      "cell_type": "markdown",
      "source": [
        "Konfigurasikan prosedur pelatihan menggunakan metode tf.keras.Model.compile. Gunakan tf.keras.optimizers.Adam dengan argumen default dan fungsi loss."
      ],
      "metadata": {
        "id": "Aivpa7911hA2"
      }
    },
    {
      "cell_type": "code",
      "source": [
        "model.compile(optimizer='adam', loss=loss)"
      ],
      "metadata": {
        "id": "9_Ld8Qxe1iw-"
      },
      "execution_count": 60,
      "outputs": []
    },
    {
      "cell_type": "markdown",
      "source": [
        "<b> Konfigurasi Checkpoints </b>\n",
        "\n",
        "Gunakan tf.keras.callbacks.ModelCheckpoint untuk memastikan bahwa checkpoint disimpan selama pelatihan:"
      ],
      "metadata": {
        "id": "MdKw-tK61jvv"
      }
    },
    {
      "cell_type": "code",
      "source": [
        "# Directory where the checkpoints will be saved\n",
        "checkpoint_dir = './training_checkpoints'\n",
        "# Name of the checkpoint files\n",
        "checkpoint_prefix = os.path.join(checkpoint_dir, \"ckpt_{epoch}\")\n",
        "\n",
        "checkpoint_callback = tf.keras.callbacks.ModelCheckpoint(\n",
        "    filepath=checkpoint_prefix,\n",
        "    save_weights_only=True)"
      ],
      "metadata": {
        "id": "pBXq3DWs1nQQ"
      },
      "execution_count": 61,
      "outputs": []
    },
    {
      "cell_type": "markdown",
      "source": [
        "<b> Lakukan Proses Training </b>\n",
        "\n",
        "Agar waktu pelatihan tidak terlalu lama, gunakan 10 epoch untuk melatih model. Di Colab, setel runtime ke GPU untuk pelatihan yang lebih cepat."
      ],
      "metadata": {
        "id": "a7s70Iwb1o2D"
      }
    },
    {
      "cell_type": "code",
      "source": [
        "EPOCHS = 20"
      ],
      "metadata": {
        "id": "najt8lyG1swA"
      },
      "execution_count": 62,
      "outputs": []
    },
    {
      "cell_type": "code",
      "source": [
        "history = model.fit(dataset, epochs=EPOCHS, callbacks=[checkpoint_callback])"
      ],
      "metadata": {
        "colab": {
          "base_uri": "https://localhost:8080/"
        },
        "id": "VWzMmLJ51u-p",
        "outputId": "21882616-1b79-4ead-9d74-c10faf5cc0ba"
      },
      "execution_count": 63,
      "outputs": [
        {
          "output_type": "stream",
          "name": "stdout",
          "text": [
            "Epoch 1/20\n",
            "172/172 [==============================] - 20s 67ms/step - loss: 2.7025\n",
            "Epoch 2/20\n",
            "172/172 [==============================] - 12s 60ms/step - loss: 1.9719\n",
            "Epoch 3/20\n",
            "172/172 [==============================] - 12s 61ms/step - loss: 1.6932\n",
            "Epoch 4/20\n",
            "172/172 [==============================] - 12s 61ms/step - loss: 1.5346\n",
            "Epoch 5/20\n",
            "172/172 [==============================] - 16s 60ms/step - loss: 1.4381\n",
            "Epoch 6/20\n",
            "172/172 [==============================] - 12s 60ms/step - loss: 1.3727\n",
            "Epoch 7/20\n",
            "172/172 [==============================] - 12s 61ms/step - loss: 1.3196\n",
            "Epoch 8/20\n",
            "172/172 [==============================] - 13s 62ms/step - loss: 1.2749\n",
            "Epoch 9/20\n",
            "172/172 [==============================] - 13s 60ms/step - loss: 1.2335\n",
            "Epoch 10/20\n",
            "172/172 [==============================] - 13s 61ms/step - loss: 1.1929\n",
            "Epoch 11/20\n",
            "172/172 [==============================] - 13s 62ms/step - loss: 1.1530\n",
            "Epoch 12/20\n",
            "172/172 [==============================] - 13s 61ms/step - loss: 1.1107\n",
            "Epoch 13/20\n",
            "172/172 [==============================] - 12s 59ms/step - loss: 1.0663\n",
            "Epoch 14/20\n",
            "172/172 [==============================] - 12s 61ms/step - loss: 1.0197\n",
            "Epoch 15/20\n",
            "172/172 [==============================] - 12s 60ms/step - loss: 0.9699\n",
            "Epoch 16/20\n",
            "172/172 [==============================] - 12s 61ms/step - loss: 0.9180\n",
            "Epoch 17/20\n",
            "172/172 [==============================] - 13s 62ms/step - loss: 0.8655\n",
            "Epoch 18/20\n",
            "172/172 [==============================] - 12s 62ms/step - loss: 0.8115\n",
            "Epoch 19/20\n",
            "172/172 [==============================] - 12s 61ms/step - loss: 0.7613\n",
            "Epoch 20/20\n",
            "172/172 [==============================] - 12s 60ms/step - loss: 0.7146\n"
          ]
        }
      ]
    },
    {
      "cell_type": "markdown",
      "source": [
        "### Generate Teks\n",
        "\n",
        "Cara termudah untuk menghasilkan teks dengan model ini adalah dengan menjalankannya dalam loop, dan menyimpan status internal model saat Anda menjalankannya.\n",
        "\n",
        "![Screenshot_789.png](data:image/png;base64,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)"
      ],
      "metadata": {
        "id": "s_ujIUWi1wr0"
      }
    },
    {
      "cell_type": "markdown",
      "source": [
        "Setiap kali Anda memanggil model, Anda memasukkan beberapa teks dan state internal. Model mengembalikan prediksi untuk karakter berikutnya dan state barunya. Masukkan kembali prediksi dan state ke model untuk terus menghasilkan teks."
      ],
      "metadata": {
        "id": "zUpfR-Nt15P6"
      }
    },
    {
      "cell_type": "markdown",
      "source": [
        "Berikut ini membuat prediksi satu langkah:"
      ],
      "metadata": {
        "id": "PpT5Nsqq161g"
      }
    },
    {
      "cell_type": "code",
      "source": [
        "class OneStep(tf.keras.Model):\n",
        "  def __init__(self, model, chars_from_ids, ids_from_chars, temperature=1.0):\n",
        "    super().__init__()\n",
        "    self.temperature = temperature\n",
        "    self.model = model\n",
        "    self.chars_from_ids = chars_from_ids\n",
        "    self.ids_from_chars = ids_from_chars\n",
        "\n",
        "    # Create a mask to prevent \"[UNK]\" from being generated.\n",
        "    skip_ids = self.ids_from_chars(['[UNK]'])[:, None]\n",
        "    sparse_mask = tf.SparseTensor(\n",
        "        # Put a -inf at each bad index.\n",
        "        values=[-float('inf')]*len(skip_ids),\n",
        "        indices=skip_ids,\n",
        "        # Match the shape to the vocabulary\n",
        "        dense_shape=[len(ids_from_chars.get_vocabulary())])\n",
        "    self.prediction_mask = tf.sparse.to_dense(sparse_mask)\n",
        "\n",
        "  @tf.function\n",
        "  def generate_one_step(self, inputs, states=None):\n",
        "    # Convert strings to token IDs.\n",
        "    input_chars = tf.strings.unicode_split(inputs, 'UTF-8')\n",
        "    input_ids = self.ids_from_chars(input_chars).to_tensor()\n",
        "\n",
        "    # Run the model.\n",
        "    # predicted_logits.shape is [batch, char, next_char_logits]\n",
        "    predicted_logits, states = self.model(inputs=input_ids, states=states,\n",
        "                                          return_state=True)\n",
        "    # Only use the last prediction.\n",
        "    predicted_logits = predicted_logits[:, -1, :]\n",
        "    predicted_logits = predicted_logits/self.temperature\n",
        "    # Apply the prediction mask: prevent \"[UNK]\" from being generated.\n",
        "    predicted_logits = predicted_logits + self.prediction_mask\n",
        "\n",
        "    # Sample the output logits to generate token IDs.\n",
        "    predicted_ids = tf.random.categorical(predicted_logits, num_samples=1)\n",
        "    predicted_ids = tf.squeeze(predicted_ids, axis=-1)\n",
        "\n",
        "    # Convert from token ids to characters\n",
        "    predicted_chars = self.chars_from_ids(predicted_ids)\n",
        "\n",
        "    # Return the characters and model state.\n",
        "    return predicted_chars, states"
      ],
      "metadata": {
        "id": "BFuTI0UW18Og"
      },
      "execution_count": 64,
      "outputs": []
    },
    {
      "cell_type": "code",
      "source": [
        "one_step_model = OneStep(model, chars_from_ids, ids_from_chars)"
      ],
      "metadata": {
        "id": "uwDA9gqt1-Od"
      },
      "execution_count": 66,
      "outputs": []
    },
    {
      "cell_type": "markdown",
      "source": [
        "Jalankan secara berulang untuk menghasilkan beberapa teks. Melihat teks yang dihasilkan, Anda akan melihat model mengetahui kapan harus menggunakan huruf besar, membuat paragraf, dan meniru kosakata menulis seperti Shakespeare. Karena sedikitnya jumlah epoch pelatihan, model belum belajar membentuk kalimat runtut."
      ],
      "metadata": {
        "id": "Ndpfy4Kj1_IV"
      }
    },
    {
      "cell_type": "code",
      "source": [
        "start = time.time()\n",
        "states = None\n",
        "next_char = tf.constant(['ROMEO:'])\n",
        "result = [next_char]\n",
        "\n",
        "for n in range(1000):\n",
        "  next_char, states = one_step_model.generate_one_step(next_char, states=states)\n",
        "  result.append(next_char)\n",
        "\n",
        "result = tf.strings.join(result)\n",
        "end = time.time()\n",
        "print(result[0].numpy().decode('utf-8'), '\\n\\n' + '_'*80)\n",
        "print('\\nRun time:', end - start)"
      ],
      "metadata": {
        "colab": {
          "base_uri": "https://localhost:8080/"
        },
        "id": "eV9WdcKf2Agf",
        "outputId": "3fe2580a-b422-40fd-ea9c-f38470bfcce7"
      },
      "execution_count": 67,
      "outputs": [
        {
          "output_type": "stream",
          "name": "stdout",
          "text": [
            "ROMEO:\n",
            "Be what we are, have chaste, letters of the east,\n",
            "Have cush'd the hearers weeping to the lion;\n",
            "And then I will be my wife, that I may leave\n",
            "To thee thither.\n",
            "\n",
            "Clown:\n",
            "Give me some cold with thee.\n",
            "\n",
            "Roman:\n",
            "Bad heaven, that banish'd me?\n",
            "\n",
            "HERMIONE:\n",
            "No; if he be,\n",
            "'Twist me or that; he had gone so boling bows: but very\n",
            "weep, sweet blood, must die about me: father we\n",
            "change usina my power! He dukes lickly knowledge\n",
            "wherein our rich fingers for the gearth;\n",
            "And, fortune, give me a tyrant forth;\n",
            "My promise usurping call it odds so long.\n",
            "But whether i' the gill? the king stands\n",
            "The grieves made quetch'd here which had not\n",
            "Frown'd for me.\n",
            "\n",
            "PETRUCHIO:\n",
            "Now, by Saint Peter's Church and Sir She speaks the rot;\n",
            "Whilst of you for mile! Menenius, I, that look upon you\n",
            "Mis he deserved queen's sknatival, treason;\n",
            "For who comes here? of the angry way I was;\n",
            "The rod is firm, soft adward was the wind;\n",
            "Within me justice, it done too;\n",
            "For I ar ses, and dried; they come in; do as easing\n",
            "not casting to the state:  \n",
            "\n",
            "________________________________________________________________________________\n",
            "\n",
            "Run time: 3.350294589996338\n"
          ]
        }
      ]
    },
    {
      "cell_type": "markdown",
      "source": [
        "Hal termudah yang dapat Anda lakukan untuk meningkatkan hasil adalah dengan melatihnya lebih lama (coba EPOCHS = 30). Anda juga dapat bereksperimen dengan string awal yang berbeda, mencoba menambahkan lapisan RNN lain untuk meningkatkan akurasi model, atau menyesuaikan parameter suhu untuk menghasilkan prediksi yang kurang lebih acak.\n",
        "\n",
        "Jika Anda ingin model menghasilkan teks lebih cepat, hal termudah yang dapat Anda lakukan adalah membuat teks secara batch. Pada contoh di bawah, model menghasilkan 5 keluaran dalam waktu yang hampir sama dengan waktu yang dibutuhkan untuk menghasilkan 1 keluaran di atas."
      ],
      "metadata": {
        "id": "VAu7qRJM2Bqp"
      }
    },
    {
      "cell_type": "code",
      "source": [
        "start = time.time()\n",
        "states = None\n",
        "next_char = tf.constant(['ROMEO:', 'ROMEO:', 'ROMEO:', 'ROMEO:', 'ROMEO:'])\n",
        "result = [next_char]\n",
        "\n",
        "for n in range(1000):\n",
        "  next_char, states = one_step_model.generate_one_step(next_char, states=states)\n",
        "  result.append(next_char)\n",
        "\n",
        "result = tf.strings.join(result)\n",
        "end = time.time()\n",
        "print(result, '\\n\\n' + '_'*80)\n",
        "print('\\nRun time:', end - start)"
      ],
      "metadata": {
        "colab": {
          "base_uri": "https://localhost:8080/"
        },
        "id": "_Q_j2rNd2ESP",
        "outputId": "630742db-2045-4bff-bd01-9240a7a29148"
      },
      "execution_count": 68,
      "outputs": [
        {
          "output_type": "stream",
          "name": "stdout",
          "text": [
            "tf.Tensor(\n",
            "[b\"ROMEO:\\nOn whether he bid thee well;\\nLet not her house again; being then of love;\\nI little slaughter upon your loves as best;\\nUnless you will carry in a good sword most.\\n\\nCATESBY:\\nHe shall not lose the world breathes their way:\\nFor I have heard the grief of their necks,\\nOur blood is bandy fellows to the Tower,\\nOn adverest fair son, at the all the jest desires\\nMy maids lessly epprehend tyrn tears are to depend\\nThy town afford: ha' a two vengmenting\\nlike that Isigh almost here; therefore, Kate,\\nFor if I cannot please his weapon speak,\\nAnd all my life break ornarise, you are\\nShunce; I'll bear what he doth prepared\\nfor stone--in-baid; and with this hour drems,\\nOr if I chain means, traitories,\\nYec, rareshment for fill honour's return,\\nAnd oppression stands it o'er the hedder, and say\\n'Twas a clamber march'd, their enemy.\\nFarewell, old fair lords, Richard, looks of four\\nmy passage that I loves me; for proud queen,\\nOur town of love, that you have lived.\\nUncle, he hath promised you merry!\\n\\nHORTENSIO:\"\n",
            " b\"ROMEO:\\nThe old part seeming! let's see: a good men how his country:\\nAre im becomes a Richard, York yet upon our faces\\nHis goodness can you will use streaming gentle.\\nThis daughter have committed to his pratteful land!\\nFirst I do think, I would not have you do:\\nMy by one chair, with time seems to give him drive:\\nWho, eyes, that she she tongue them\\nEgen to the foflicold round with fire and dozen.\\nHaw they vengeance will cross them?\\nBut, God, I resist; and, sit, away!\\n\\nDUKE VINCENTIO:\\nWhat is this? I come!\\n\\nPagure:\\nMy lord, will give your mistress!'\\nShame to be, for I know the castles sin.\\n\\nKATHARINA:\\nA very home free speech and duily of\\ntheir hands, my blood, the heart of Edward's head,\\nAnd give awar me so tenderly done's--\\nTo make thy same, I say, his coat, and tell my love!\\nAnd pardon its, awakedly aw, like to a beart\\nWho lovester, hence; I will pisable treeble;\\nGo thou, you'll keep my name of me.\\n\\nKING HENRY VI:\\nIn mistress' fair Bana of Gol's evil;\\nand let us rest under a very little\\nBoth \"\n",
            " b\"ROMEO:\\nSad souls And love in hell, and then to bear\\nThe honoured of themselves, double wars: I would\\nFarewell; the mustate of thy advice\\nMay make a punisher may weep when he is.\\n\\nYORK:\\nOur parting to the boy;\\nAnd long to't way, luke men of war,\\nAre summedors. Thy daughter Kate them care, for\\nSoin'd and gave him leave be their bisds wherein,\\nThe captain nurse lie in reversion, wantings\\nMy father be ady, and the lept;\\nBut I farewell; and, in first Christians heard\\nDukesome; and the king broke with me:\\nLike tea, her brothers, to the hatch-say to\\nme; for I have said with God report you: I will see\\nThy manner is here write before: and, in fault,\\nWert bloody days will lay on from her. Tybalt,\\nSlain, when 'tis barrant Fortune, his ease was done.\\n\\nHENRY BOLINGBROKE:\\nMy griefs, as thou art, gallowed; yet,\\nBut by appearing misery in anly pratty\\nWould wait upon the gardener, more have gotd a gentle\\nWinwick was the whip to that hath drown'd yield me up, I\\ncannot tell thee what your wards in field?\\nOr, t\"\n",
            " b\"ROMEO:\\nO certain nurse, is it your thief it does,\\nBeing a codates, to be protent!' 'er\\nabothed at the Tower, that stabbing York,\\nEither like a trenzall of his honour trade;\\nAnd by my father died, and thou, apt'st a king!\\nTo vengeance to the flower, northrey thee\\nwhere he acted ship so great a knowledge\\nOf noble blood that be of sighs,\\nNot bring and pain to do my care, sir,\\nWould have kept thy Juliet, and deformity have been\\nWithout the instrument, thou liest. Through the ireful case\\nhimself waved in corn's just and all; some sleepy torget\\nThat would with triumphant gentle in your robes,\\nThat went yet shall this Gaunt and Clarence will be long.\\nUpons your grace I say! I pray you\\n\\nVOLUMNIA:\\nGood morrow, Catesby: by the king shall lose you.\\n\\nVIRGILIA:\\nBut I\\nHave lost mine honesty agree:\\nThese bare flesh was there no home,--good people,\\nAnd weep your deceits and his folly.\\nCall Welcome the lark and spreadful eagle;\\nWith wrong'd before thy man; she's death, and Mistrust\\nAllow it; yet my true love\"\n",
            " b\"ROMEO:\\nIndeed, I know not what; 'twas bold,\\nThat I may come to prison, my lord,\\nThat break-his, rivers from his skull: go\\nthe first gentle Horthought I was; and to love's in\\nlikeness. What, love the gods, as our coaf-swarine,\\nHow thou hast the welcome of his knees.\\n\\nLADY CAPULET:\\nWhy, sir, the prince fixhom, to Lady Bona, her brothers: she will not\\nbestrance a son be good unto: I knew obertain'd you.\\n\\nMERCUTIO:\\nCount, alas! for love the rack of honour,\\nPoor fetch away the bloody manife's!\\nOr faith, no less than dainties are the people\\nStealing, for it were the coriol; he is all the\\nworst whom I loved here to be agreed:'--\\n\\nTICUS:\\nWhat belikes, I have infruigntly\\nI' the south as if you have said a worthy\\nfines: I writ your loys as you.\\n\\nLord:\\nMy earth, my lady I'll carry\\nPying Richard: he hath but for she was thy fame to pride\\nThe finger in the towns as they are to be;\\nAnd the exchequer horrorsels, and they often\\nBlass, fair gods, but by blood to't it was;\\nHer childish men of state, who slew \"], shape=(5,), dtype=string) \n",
            "\n",
            "________________________________________________________________________________\n",
            "\n",
            "Run time: 5.0008323192596436\n"
          ]
        }
      ]
    },
    {
      "cell_type": "markdown",
      "source": [
        "### Ekspor Model Generator\n",
        "\n",
        "Model satu langkah ini dapat dengan mudah disimpan dan digunakan kembali, memungkinkan Anda menggunakannya di mana pun tf.saved_model diterima."
      ],
      "metadata": {
        "id": "T_U2K4nL2FuZ"
      }
    },
    {
      "cell_type": "code",
      "source": [
        "tf.saved_model.save(one_step_model, 'one_step')\n",
        "one_step_reloaded = tf.saved_model.load('one_step')"
      ],
      "metadata": {
        "colab": {
          "base_uri": "https://localhost:8080/"
        },
        "id": "25WKAYJs2IHj",
        "outputId": "44b509f9-c233-432a-85de-9c354dea1cda"
      },
      "execution_count": 69,
      "outputs": [
        {
          "output_type": "stream",
          "name": "stderr",
          "text": [
            "WARNING:tensorflow:Skipping full serialization of Keras layer <__main__.OneStep object at 0x7bebffe2f250>, because it is not built.\n",
            "WARNING:tensorflow:Model's `__init__()` arguments contain non-serializable objects. Please implement a `get_config()` method in the subclassed Model for proper saving and loading. Defaulting to empty config.\n",
            "WARNING:tensorflow:Model's `__init__()` arguments contain non-serializable objects. Please implement a `get_config()` method in the subclassed Model for proper saving and loading. Defaulting to empty config.\n"
          ]
        }
      ]
    },
    {
      "cell_type": "code",
      "source": [
        "states = None\n",
        "next_char = tf.constant(['ROMEO:'])\n",
        "result = [next_char]\n",
        "\n",
        "for n in range(100):\n",
        "  next_char, states = one_step_reloaded.generate_one_step(next_char, states=states)\n",
        "  result.append(next_char)\n",
        "\n",
        "print(tf.strings.join(result)[0].numpy().decode(\"utf-8\"))"
      ],
      "metadata": {
        "colab": {
          "base_uri": "https://localhost:8080/"
        },
        "id": "kFAMArv_2JcZ",
        "outputId": "1123b1aa-fa03-4fcd-9c8e-7d335fbe52bc"
      },
      "execution_count": 70,
      "outputs": [
        {
          "output_type": "stream",
          "name": "stdout",
          "text": [
            "ROMEO:\n",
            "The king still watch Fram:\n",
            "Did Jefus 'Reape path; and with their ways,\n",
            "Her womb reported that we en\n"
          ]
        }
      ]
    },
    {
      "cell_type": "markdown",
      "metadata": {
        "id": "Y-QD1Ijw3gqQ"
      },
      "source": [
        "<br>"
      ]
    },
    {
      "cell_type": "markdown",
      "source": [
        "# Tugas\n",
        "\n",
        "Prosedur pelatihan pada praktikum 2 merupakan prosedur sederhana, yang tidak memberi Anda banyak kendali. Model ini menggunakan \"teacher-forcing\" yang mencegah prediksi buruk diumpankan kembali ke model, sehingga model tidak pernah belajar untuk pulih dari kesalahan. Jadi, setelah Anda melihat cara menjalankan model secara manual, selanjutnya Anda akan mengimplementasikan custom loop pelatihan. Hal ini memberikan titik awal jika, misalnya, Anda ingin menerapkan pembelajaran kurikulum untuk membantu menstabilkan keluaran open-loop model. Bagian terpenting dari loop pelatihan khusus adalah fungsi langkah pelatihan."
      ],
      "metadata": {
        "id": "hqkBBUYOmr-F"
      }
    },
    {
      "cell_type": "markdown",
      "source": [
        "Gunakan tf.GradientTape untuk men track nilai gradient. Anda dapat mempelajari lebih lanjut tentang pendekatan ini dengan membaca eager execution guide.\n",
        "\n",
        "Prosedurnya adalah :\n",
        "1. Jalankan Model dan hitung loss dengan tf.GradientTape.\n",
        "2. Hitung update dan terapkan pada model dengan optimizer"
      ],
      "metadata": {
        "id": "cFrQAf262jN4"
      }
    },
    {
      "cell_type": "code",
      "source": [
        "class CustomTraining(MyModel):\n",
        "  @tf.function\n",
        "  def train_step(self, inputs):\n",
        "    inputs, labels = inputs\n",
        "    with tf.GradientTape() as tape:\n",
        "      predictions = self(inputs, training=True)\n",
        "      loss = self.loss(labels, predictions)\n",
        "    grads = tape.gradient(loss, model.trainable_variables)\n",
        "    self.optimizer.apply_gradients(zip(grads, model.trainable_variables))\n",
        "\n",
        "    return {'loss': loss}"
      ],
      "metadata": {
        "id": "XRhGxMfO4U41"
      },
      "execution_count": 74,
      "outputs": []
    },
    {
      "cell_type": "markdown",
      "source": [
        "Kode diatas menerapkan train_step method sesuai dengan  Keras' train_step conventions. Ini opsional, tetapi memungkinkan Anda mengubah perilaku langkah pelatihan dan tetap menggunakan keras Model.compile and Model.fit methods."
      ],
      "metadata": {
        "id": "6Bom8AkF4cmq"
      }
    },
    {
      "cell_type": "code",
      "source": [
        "model = CustomTraining(\n",
        "  vocab_size=len(ids_from_chars.get_vocabulary()),\n",
        "  embedding_dim=embedding_dim,\n",
        "  rnn_units=rnn_units)"
      ],
      "metadata": {
        "id": "pwGgpyWA4d5s"
      },
      "execution_count": 75,
      "outputs": []
    },
    {
      "cell_type": "code",
      "source": [
        "model.compile(optimizer = tf.keras.optimizers.Adam(),\n",
        "              loss=tf.keras.losses.SparseCategoricalCrossentropy(from_logits=True))"
      ],
      "metadata": {
        "id": "KSSlRmDM4fPs"
      },
      "execution_count": 76,
      "outputs": []
    },
    {
      "cell_type": "code",
      "source": [
        "model.fit(dataset, epochs=1)"
      ],
      "metadata": {
        "colab": {
          "base_uri": "https://localhost:8080/"
        },
        "id": "ikSc1i7E4gbO",
        "outputId": "55dca311-d5cf-43bc-97f3-95aa15db0607"
      },
      "execution_count": 77,
      "outputs": [
        {
          "output_type": "stream",
          "name": "stdout",
          "text": [
            "172/172 [==============================] - 16s 64ms/step - loss: 2.7172\n"
          ]
        },
        {
          "output_type": "execute_result",
          "data": {
            "text/plain": [
              "<keras.src.callbacks.History at 0x7bec06f89db0>"
            ]
          },
          "metadata": {},
          "execution_count": 77
        }
      ]
    },
    {
      "cell_type": "markdown",
      "source": [
        "Atau jika ingin lebih mengetahui dalamnya, kita bisa membuat custom training loop sendiri:"
      ],
      "metadata": {
        "id": "rQBYvb_K4hch"
      }
    },
    {
      "cell_type": "code",
      "source": [
        "EPOCHS = 10\n",
        "\n",
        "mean = tf.metrics.Mean()\n",
        "\n",
        "for epoch in range(EPOCHS):\n",
        "    start = time.time()\n",
        "\n",
        "    mean.reset_states()\n",
        "    for (batch_n, (inp, target)) in enumerate(dataset):\n",
        "        logs = model.train_step([inp, target])\n",
        "        mean.update_state(logs['loss'])\n",
        "\n",
        "        if batch_n % 50 == 0:\n",
        "            template = f\"Epoch {epoch+1} Batch {batch_n} Loss {logs['loss']:.4f}\"\n",
        "            print(template)\n",
        "\n",
        "    # saving (checkpoint) the model every 5 epochs\n",
        "    if (epoch + 1) % 5 == 0:\n",
        "        model.save_weights(checkpoint_prefix.format(epoch=epoch))\n",
        "\n",
        "    print()\n",
        "    print(f'Epoch {epoch+1} Loss: {mean.result().numpy():.4f}')\n",
        "    print(f'Time taken for 1 epoch {time.time() - start:.2f} sec')\n",
        "    print(\"_\"*80)\n",
        "\n",
        "model.save_weights(checkpoint_prefix.format(epoch=epoch))"
      ],
      "metadata": {
        "colab": {
          "base_uri": "https://localhost:8080/"
        },
        "id": "oJuXZrw04iQM",
        "outputId": "a487a481-d7ac-4d40-a299-4d1f8f2791f1"
      },
      "execution_count": 78,
      "outputs": [
        {
          "output_type": "stream",
          "name": "stdout",
          "text": [
            "Epoch 1 Batch 0 Loss 2.1844\n",
            "Epoch 1 Batch 50 Loss 2.0500\n",
            "Epoch 1 Batch 100 Loss 1.9577\n",
            "Epoch 1 Batch 150 Loss 1.8124\n",
            "\n",
            "Epoch 1 Loss: 1.9842\n",
            "Time taken for 1 epoch 14.70 sec\n",
            "________________________________________________________________________________\n",
            "Epoch 2 Batch 0 Loss 1.8394\n",
            "Epoch 2 Batch 50 Loss 1.7290\n",
            "Epoch 2 Batch 100 Loss 1.6549\n",
            "Epoch 2 Batch 150 Loss 1.6602\n",
            "\n",
            "Epoch 2 Loss: 1.7061\n",
            "Time taken for 1 epoch 12.10 sec\n",
            "________________________________________________________________________________\n",
            "Epoch 3 Batch 0 Loss 1.5790\n",
            "Epoch 3 Batch 50 Loss 1.5328\n",
            "Epoch 3 Batch 100 Loss 1.5565\n",
            "Epoch 3 Batch 150 Loss 1.5402\n",
            "\n",
            "Epoch 3 Loss: 1.5468\n",
            "Time taken for 1 epoch 12.13 sec\n",
            "________________________________________________________________________________\n",
            "Epoch 4 Batch 0 Loss 1.4361\n",
            "Epoch 4 Batch 50 Loss 1.4486\n",
            "Epoch 4 Batch 100 Loss 1.4257\n",
            "Epoch 4 Batch 150 Loss 1.4016\n",
            "\n",
            "Epoch 4 Loss: 1.4496\n",
            "Time taken for 1 epoch 11.69 sec\n",
            "________________________________________________________________________________\n",
            "Epoch 5 Batch 0 Loss 1.3973\n",
            "Epoch 5 Batch 50 Loss 1.3794\n",
            "Epoch 5 Batch 100 Loss 1.3647\n",
            "Epoch 5 Batch 150 Loss 1.3515\n",
            "\n",
            "Epoch 5 Loss: 1.3821\n",
            "Time taken for 1 epoch 11.71 sec\n",
            "________________________________________________________________________________\n",
            "Epoch 6 Batch 0 Loss 1.3190\n",
            "Epoch 6 Batch 50 Loss 1.3114\n",
            "Epoch 6 Batch 100 Loss 1.3448\n",
            "Epoch 6 Batch 150 Loss 1.3563\n",
            "\n",
            "Epoch 6 Loss: 1.3297\n",
            "Time taken for 1 epoch 11.35 sec\n",
            "________________________________________________________________________________\n",
            "Epoch 7 Batch 0 Loss 1.2820\n",
            "Epoch 7 Batch 50 Loss 1.2511\n",
            "Epoch 7 Batch 100 Loss 1.2826\n",
            "Epoch 7 Batch 150 Loss 1.3159\n",
            "\n",
            "Epoch 7 Loss: 1.2851\n",
            "Time taken for 1 epoch 20.47 sec\n",
            "________________________________________________________________________________\n",
            "Epoch 8 Batch 0 Loss 1.2797\n",
            "Epoch 8 Batch 50 Loss 1.2922\n",
            "Epoch 8 Batch 100 Loss 1.2288\n",
            "Epoch 8 Batch 150 Loss 1.2590\n",
            "\n",
            "Epoch 8 Loss: 1.2450\n",
            "Time taken for 1 epoch 11.76 sec\n",
            "________________________________________________________________________________\n",
            "Epoch 9 Batch 0 Loss 1.1727\n",
            "Epoch 9 Batch 50 Loss 1.2172\n",
            "Epoch 9 Batch 100 Loss 1.2278\n",
            "Epoch 9 Batch 150 Loss 1.2208\n",
            "\n",
            "Epoch 9 Loss: 1.2046\n",
            "Time taken for 1 epoch 11.93 sec\n",
            "________________________________________________________________________________\n",
            "Epoch 10 Batch 0 Loss 1.1232\n",
            "Epoch 10 Batch 50 Loss 1.1651\n",
            "Epoch 10 Batch 100 Loss 1.1842\n",
            "Epoch 10 Batch 150 Loss 1.1784\n",
            "\n",
            "Epoch 10 Loss: 1.1650\n",
            "Time taken for 1 epoch 13.19 sec\n",
            "________________________________________________________________________________\n"
          ]
        }
      ]
    },
    {
      "cell_type": "markdown",
      "source": [
        "Jalankan kode diatas dan sebutkan perbedaanya dengan praktikum 2?"
      ],
      "metadata": {
        "id": "oCpZntNN3Uzn"
      }
    },
    {
      "cell_type": "markdown",
      "source": [
        "## Jawaban"
      ],
      "metadata": {
        "id": "KHk_wCPP8jDq"
      }
    },
    {
      "cell_type": "markdown",
      "source": [
        " ### Penjelasan Kedua kode training model di atas"
      ],
      "metadata": {
        "id": "-JqI1O8TdXVE"
      }
    },
    {
      "cell_type": "markdown",
      "source": [
        "<b> Metode Training Pertama: Menggunakan `model.fit` </b>\n",
        "- Menggunakan fungsi `model.fit`, yang merupakan cara yang lebih ringkas dan tingkat tinggi untuk melatih model. Memanfaatkan konvensi Keras dan menyediakan banyak fungsionalitas bawaan, termasuk pelacakan metrik, validasi, dan fungsi callback.\n",
        "- Menggunakan struktur lebih ringkas dengan fungsi `model.compile` dan `model.fit`. Cocok untuk tugas umum dan pemula.\n",
        "- Logging dan checkpoint diatur secara otomatis melalui fungsi `model.fit`.\n",
        "- Memberikan abstraksi tingkat tinggi dan cocok untuk pengguna yang tidak memerlukan kontrol tingkat rendah.\n",
        "\n",
        "<b> Metode Training Kedua: Custom Training Loop </b>\n",
        "- Menggunakan loop pelatihan kustom, di mana setiap langkah pelatihan diatur secara manual. Memberikan lebih banyak kontrol langsung atas setiap langkah, cocok untuk kasus di mana Anda memerlukan kebebasan yang lebih besar untuk menyesuaikan perilaku pelatihan.\n",
        "- Memerlukan lebih banyak baris kode untuk menangani langkah-langkah pelatihan secara manual. Cocok untuk pengguna yang ingin memiliki kontrol penuh atas proses pelatihan.\n",
        "- Logging dan checkpoint diatur secara manual dalam loop pelatihan kustom.\n",
        "- Memberikan kontrol tingkat rendah dan cocok untuk pengguna yang memerlukan penyesuaian lebih lanjut."
      ],
      "metadata": {
        "id": "Z4m8mg2FiSkd"
      }
    },
    {
      "cell_type": "markdown",
      "source": [
        "### Penjelasan Perbedaan Kedua kode training model di atas dibandingkan dengan kode training pada praktikum 2\n",
        "\n",
        "1. <b> Langkah-Langkah Training Model: </b>\n",
        "- Metode Pertama dan Kedua: Langsung melibatkan langkah-langkah pelatihan model, di mana model dilatih menggunakan `model.fit` atau custom training loop.\n",
        "- Metode Praktikum 2: Sebelum langkah pelatihan, dilakukan langkah-langkah seperti perhitungan loss, prediksi batch, dan kompilasi model secara manual.\n",
        "\n",
        "2. <b> Logging dan Checkpoints: </b>\n",
        "- Metode Pertama dan Kedua: Logging dan checkpoint diatur melalui fungsi `model.fit` atau custom training loop.\n",
        "- Metode Praktikum 2: Logging dan checkpoint diatur secara manual sebelum memulai pelatihan.\n",
        "\n",
        "3. <b> Struktur Kode dan Abstraksi: </b>\n",
        "- Metode Pertama dan Kedua: Lebih terstruktur dan lebih mudah dipahami. Memanfaatkan abstraksi tinggi dari Keras.\n",
        "- Metode Praktikum 2: Memerlukan lebih banyak kode dan lebih rendah abstraksi, karena beberapa langkah harus diatur secara manual.\n",
        "\n",
        "4. <b> Penggunaan Callback: </b>\n",
        "- Metode Pertama dan Kedua: Menggunakan callback secara otomatis melalui `model.fit` atau custom training loop.\n",
        "- Metode Praktikum 2: Menggunakan callback secara manual untuk menyimpan berat model pada setiap epoch.\n",
        "\n",
        "Perbedaan ini bisa menjadi pertimbangan pengguna dalam pemilihan training model menggunakan TensorFlow, karena pemilihan antara metode-metode tersebut tergantung pada kebutuhan proyek. Metode pertama dan kedua lebih sederhana dan terorganisir, sedangkan metode pada praktikum 2 akan memberikan kemampuan lebih besar untuk pengguna yang memerlukan penyesuaian lebih lanjut."
      ],
      "metadata": {
        "id": "ehxWauZxjcjC"
      }
    }
  ]
}